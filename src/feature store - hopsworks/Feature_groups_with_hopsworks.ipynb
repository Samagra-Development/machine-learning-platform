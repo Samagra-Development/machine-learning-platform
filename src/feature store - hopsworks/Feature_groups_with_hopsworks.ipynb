{
  "cells": [
    {
      "cell_type": "markdown",
      "id": "n-IH_r-Ab5Co",
      "metadata": {
        "id": "n-IH_r-Ab5Co"
      },
      "source": [
        "##Hopsworks Installation"
      ]
    },
    {
      "cell_type": "code",
      "execution_count": 14,
      "id": "7a7e722a",
      "metadata": {
        "colab": {
          "base_uri": "https://localhost:8080/"
        },
        "id": "7a7e722a",
        "outputId": "d31ade10-bdda-4ff0-fc8b-6d007d91534d"
      },
      "outputs": [
        {
          "name": "stdout",
          "output_type": "stream",
          "text": [
            "Note: you may need to restart the kernel to use updated packages.\n"
          ]
        },
        {
          "name": "stderr",
          "output_type": "stream",
          "text": [
            "WARNING: Ignoring invalid distribution -rotobuf (c:\\users\\hp\\appdata\\local\\programs\\python\\python310\\lib\\site-packages)\n",
            "WARNING: Ignoring invalid distribution -rotobuf (c:\\users\\hp\\appdata\\local\\programs\\python\\python310\\lib\\site-packages)\n",
            "WARNING: Ignoring invalid distribution -rotobuf (c:\\users\\hp\\appdata\\local\\programs\\python\\python310\\lib\\site-packages)\n",
            "WARNING: Ignoring invalid distribution -rotobuf (c:\\users\\hp\\appdata\\local\\programs\\python\\python310\\lib\\site-packages)\n",
            "WARNING: Ignoring invalid distribution -rotobuf (c:\\users\\hp\\appdata\\local\\programs\\python\\python310\\lib\\site-packages)\n",
            "WARNING: Ignoring invalid distribution -rotobuf (c:\\users\\hp\\appdata\\local\\programs\\python\\python310\\lib\\site-packages)\n"
          ]
        }
      ],
      "source": [
        "%pip install -U hopsworks --quiet"
      ]
    },
    {
      "cell_type": "markdown",
      "id": "1a8338ab",
      "metadata": {
        "id": "1a8338ab"
      },
      "source": [
        "##Loading datasets"
      ]
    },
    {
      "cell_type": "code",
      "execution_count": 2,
      "id": "84e88dc4",
      "metadata": {
        "colab": {
          "base_uri": "https://localhost:8080/",
          "height": 143
        },
        "id": "84e88dc4",
        "outputId": "a1fa54d4-b029-4df0-b768-e5cec6943cfb"
      },
      "outputs": [
        {
          "data": {
            "text/html": [
              "<div>\n",
              "<style scoped>\n",
              "    .dataframe tbody tr th:only-of-type {\n",
              "        vertical-align: middle;\n",
              "    }\n",
              "\n",
              "    .dataframe tbody tr th {\n",
              "        vertical-align: top;\n",
              "    }\n",
              "\n",
              "    .dataframe thead th {\n",
              "        text-align: right;\n",
              "    }\n",
              "</style>\n",
              "<table border=\"1\" class=\"dataframe\">\n",
              "  <thead>\n",
              "    <tr style=\"text-align: right;\">\n",
              "      <th></th>\n",
              "      <th>cc_num</th>\n",
              "      <th>provider</th>\n",
              "      <th>expires</th>\n",
              "    </tr>\n",
              "  </thead>\n",
              "  <tbody>\n",
              "    <tr>\n",
              "      <th>0</th>\n",
              "      <td>4796807885357879</td>\n",
              "      <td>visa</td>\n",
              "      <td>05/23</td>\n",
              "    </tr>\n",
              "    <tr>\n",
              "      <th>1</th>\n",
              "      <td>4529266636192966</td>\n",
              "      <td>visa</td>\n",
              "      <td>03/22</td>\n",
              "    </tr>\n",
              "    <tr>\n",
              "      <th>2</th>\n",
              "      <td>4922690008243953</td>\n",
              "      <td>visa</td>\n",
              "      <td>02/27</td>\n",
              "    </tr>\n",
              "  </tbody>\n",
              "</table>\n",
              "</div>"
            ],
            "text/plain": [
              "             cc_num provider expires\n",
              "0  4796807885357879     visa   05/23\n",
              "1  4529266636192966     visa   03/22\n",
              "2  4922690008243953     visa   02/27"
            ]
          },
          "execution_count": 2,
          "metadata": {},
          "output_type": "execute_result"
        }
      ],
      "source": [
        "import pandas as pd\n",
        "credit_cards_df = pd.read_csv(\"https://repo.hops.works/master/hopsworks-tutorials/data/card_fraud_data/credit_cards.csv\")\n",
        "credit_cards_df.head(3)"
      ]
    },
    {
      "cell_type": "code",
      "execution_count": 3,
      "id": "29266cc6",
      "metadata": {
        "colab": {
          "base_uri": "https://localhost:8080/",
          "height": 143
        },
        "id": "29266cc6",
        "outputId": "26295d4f-46cb-4d73-8e29-cef4e8d6349f"
      },
      "outputs": [
        {
          "data": {
            "text/html": [
              "<div>\n",
              "<style scoped>\n",
              "    .dataframe tbody tr th:only-of-type {\n",
              "        vertical-align: middle;\n",
              "    }\n",
              "\n",
              "    .dataframe tbody tr th {\n",
              "        vertical-align: top;\n",
              "    }\n",
              "\n",
              "    .dataframe thead th {\n",
              "        text-align: right;\n",
              "    }\n",
              "</style>\n",
              "<table border=\"1\" class=\"dataframe\">\n",
              "  <thead>\n",
              "    <tr style=\"text-align: right;\">\n",
              "      <th></th>\n",
              "      <th>name</th>\n",
              "      <th>sex</th>\n",
              "      <th>mail</th>\n",
              "      <th>birthdate</th>\n",
              "      <th>City</th>\n",
              "      <th>Country</th>\n",
              "      <th>cc_num</th>\n",
              "    </tr>\n",
              "  </thead>\n",
              "  <tbody>\n",
              "    <tr>\n",
              "      <th>0</th>\n",
              "      <td>Catherine Zimmerman</td>\n",
              "      <td>F</td>\n",
              "      <td>valenciajason@hotmail.com</td>\n",
              "      <td>1988-09-20</td>\n",
              "      <td>Bryn Mawr-Skyway</td>\n",
              "      <td>US</td>\n",
              "      <td>4796807885357879</td>\n",
              "    </tr>\n",
              "    <tr>\n",
              "      <th>1</th>\n",
              "      <td>Michael Williams</td>\n",
              "      <td>M</td>\n",
              "      <td>brettkennedy@yahoo.com</td>\n",
              "      <td>1977-03-01</td>\n",
              "      <td>Gates-North Gates</td>\n",
              "      <td>US</td>\n",
              "      <td>4529266636192966</td>\n",
              "    </tr>\n",
              "    <tr>\n",
              "      <th>2</th>\n",
              "      <td>Jessica Krueger</td>\n",
              "      <td>F</td>\n",
              "      <td>marthacruz@hotmail.com</td>\n",
              "      <td>1947-09-10</td>\n",
              "      <td>Greenfield</td>\n",
              "      <td>US</td>\n",
              "      <td>4922690008243953</td>\n",
              "    </tr>\n",
              "  </tbody>\n",
              "</table>\n",
              "</div>"
            ],
            "text/plain": [
              "                  name sex                       mail  birthdate  \\\n",
              "0  Catherine Zimmerman   F  valenciajason@hotmail.com 1988-09-20   \n",
              "1     Michael Williams   M     brettkennedy@yahoo.com 1977-03-01   \n",
              "2      Jessica Krueger   F     marthacruz@hotmail.com 1947-09-10   \n",
              "\n",
              "                City Country            cc_num  \n",
              "0   Bryn Mawr-Skyway      US  4796807885357879  \n",
              "1  Gates-North Gates      US  4529266636192966  \n",
              "2         Greenfield      US  4922690008243953  "
            ]
          },
          "execution_count": 3,
          "metadata": {},
          "output_type": "execute_result"
        }
      ],
      "source": [
        "profiles_df = pd.read_csv(\"https://repo.hops.works/master/hopsworks-tutorials/data/card_fraud_data/profiles.csv\", parse_dates=[\"birthdate\"])\n",
        "profiles_df.head(3)"
      ]
    },
    {
      "cell_type": "code",
      "execution_count": 4,
      "id": "e030e554",
      "metadata": {
        "colab": {
          "base_uri": "https://localhost:8080/",
          "height": 312
        },
        "id": "e030e554",
        "outputId": "87d0ea39-d957-4622-c386-205d71ca564d"
      },
      "outputs": [
        {
          "data": {
            "text/html": [
              "<div>\n",
              "<style scoped>\n",
              "    .dataframe tbody tr th:only-of-type {\n",
              "        vertical-align: middle;\n",
              "    }\n",
              "\n",
              "    .dataframe tbody tr th {\n",
              "        vertical-align: top;\n",
              "    }\n",
              "\n",
              "    .dataframe thead th {\n",
              "        text-align: right;\n",
              "    }\n",
              "</style>\n",
              "<table border=\"1\" class=\"dataframe\">\n",
              "  <thead>\n",
              "    <tr style=\"text-align: right;\">\n",
              "      <th></th>\n",
              "      <th>tid</th>\n",
              "      <th>datetime</th>\n",
              "      <th>cc_num</th>\n",
              "      <th>category</th>\n",
              "      <th>amount</th>\n",
              "      <th>latitude</th>\n",
              "      <th>longitude</th>\n",
              "      <th>city</th>\n",
              "      <th>country</th>\n",
              "      <th>fraud_label</th>\n",
              "    </tr>\n",
              "  </thead>\n",
              "  <tbody>\n",
              "    <tr>\n",
              "      <th>0</th>\n",
              "      <td>11df919988c134d97bbff2678eb68e22</td>\n",
              "      <td>2022-01-01 00:00:24</td>\n",
              "      <td>4473593503484549</td>\n",
              "      <td>Health/Beauty</td>\n",
              "      <td>62.95</td>\n",
              "      <td>42.30865</td>\n",
              "      <td>-83.48216</td>\n",
              "      <td>Canton</td>\n",
              "      <td>US</td>\n",
              "      <td>0</td>\n",
              "    </tr>\n",
              "    <tr>\n",
              "      <th>1</th>\n",
              "      <td>dd0b2d6d4266ccd3bf05bc2ea91cf180</td>\n",
              "      <td>2022-01-01 00:00:56</td>\n",
              "      <td>4272465718946864</td>\n",
              "      <td>Grocery</td>\n",
              "      <td>85.45</td>\n",
              "      <td>33.52253</td>\n",
              "      <td>-117.70755</td>\n",
              "      <td>Laguna Niguel</td>\n",
              "      <td>US</td>\n",
              "      <td>0</td>\n",
              "    </tr>\n",
              "    <tr>\n",
              "      <th>2</th>\n",
              "      <td>e627f5d9a9739833bd52d2da51761fc3</td>\n",
              "      <td>2022-01-01 00:02:32</td>\n",
              "      <td>4104216579248948</td>\n",
              "      <td>Domestic Transport</td>\n",
              "      <td>21.63</td>\n",
              "      <td>37.60876</td>\n",
              "      <td>-77.37331</td>\n",
              "      <td>Mechanicsville</td>\n",
              "      <td>US</td>\n",
              "      <td>0</td>\n",
              "    </tr>\n",
              "  </tbody>\n",
              "</table>\n",
              "</div>"
            ],
            "text/plain": [
              "                                tid            datetime            cc_num  \\\n",
              "0  11df919988c134d97bbff2678eb68e22 2022-01-01 00:00:24  4473593503484549   \n",
              "1  dd0b2d6d4266ccd3bf05bc2ea91cf180 2022-01-01 00:00:56  4272465718946864   \n",
              "2  e627f5d9a9739833bd52d2da51761fc3 2022-01-01 00:02:32  4104216579248948   \n",
              "\n",
              "             category  amount  latitude  longitude            city country  \\\n",
              "0       Health/Beauty   62.95  42.30865  -83.48216          Canton      US   \n",
              "1             Grocery   85.45  33.52253 -117.70755   Laguna Niguel      US   \n",
              "2  Domestic Transport   21.63  37.60876  -77.37331  Mechanicsville      US   \n",
              "\n",
              "   fraud_label  \n",
              "0            0  \n",
              "1            0  \n",
              "2            0  "
            ]
          },
          "execution_count": 4,
          "metadata": {},
          "output_type": "execute_result"
        }
      ],
      "source": [
        "trans_df = pd.read_csv(\"https://repo.hops.works/master/hopsworks-tutorials/data/card_fraud_data/transactions.csv\", parse_dates=[\"datetime\"])\n",
        "trans_df.head(3)"
      ]
    },
    {
      "cell_type": "markdown",
      "id": "55161717",
      "metadata": {
        "id": "55161717"
      },
      "source": [
        "##Feature Engineering\n",
        "\n",
        "Fraudulent transactions can differ from regular ones in many different ways. Typical red flags would for instance be a large transaction volume/frequency in the span of a few hours. It could also be the case that elderly people in particular are targeted by fraudsters. To facilitate model learning we will create additional features based on these patterns. In particular, we will create two types of features:\n",
        "1. **Features that aggregate data from different data sources**. This could for instance be the age of a customer at the time of a transaction, which combines the `birthdate` feature from `profiles.csv` with the `datetime` feature from `transactions.csv`.\n",
        "2. **Features that aggregate data from multiple time steps**. An example of this could be the transaction frequency of a credit card in the span of a few hours, which is computed using a window function.\n",
        "\n"
      ]
    },
    {
      "cell_type": "code",
      "execution_count": 5,
      "id": "f8b31239",
      "metadata": {
        "colab": {
          "base_uri": "https://localhost:8080/",
          "height": 206
        },
        "id": "f8b31239",
        "outputId": "17b92d03-06e4-4af8-9f31-b36e1071bcb2"
      },
      "outputs": [
        {
          "data": {
            "text/html": [
              "<div>\n",
              "<style scoped>\n",
              "    .dataframe tbody tr th:only-of-type {\n",
              "        vertical-align: middle;\n",
              "    }\n",
              "\n",
              "    .dataframe tbody tr th {\n",
              "        vertical-align: top;\n",
              "    }\n",
              "\n",
              "    .dataframe thead th {\n",
              "        text-align: right;\n",
              "    }\n",
              "</style>\n",
              "<table border=\"1\" class=\"dataframe\">\n",
              "  <thead>\n",
              "    <tr style=\"text-align: right;\">\n",
              "      <th></th>\n",
              "      <th>age_at_transaction</th>\n",
              "      <th>days_until_card_expires</th>\n",
              "    </tr>\n",
              "  </thead>\n",
              "  <tbody>\n",
              "    <tr>\n",
              "      <th>0</th>\n",
              "      <td>97.513297</td>\n",
              "      <td>1460.999722</td>\n",
              "    </tr>\n",
              "    <tr>\n",
              "      <th>1</th>\n",
              "      <td>33.752919</td>\n",
              "      <td>1733.999352</td>\n",
              "    </tr>\n",
              "    <tr>\n",
              "      <th>2</th>\n",
              "      <td>80.899681</td>\n",
              "      <td>242.998241</td>\n",
              "    </tr>\n",
              "    <tr>\n",
              "      <th>3</th>\n",
              "      <td>53.526088</td>\n",
              "      <td>150.997639</td>\n",
              "    </tr>\n",
              "    <tr>\n",
              "      <th>4</th>\n",
              "      <td>46.005059</td>\n",
              "      <td>515.997280</td>\n",
              "    </tr>\n",
              "  </tbody>\n",
              "</table>\n",
              "</div>"
            ],
            "text/plain": [
              "   age_at_transaction  days_until_card_expires\n",
              "0           97.513297              1460.999722\n",
              "1           33.752919              1733.999352\n",
              "2           80.899681               242.998241\n",
              "3           53.526088               150.997639\n",
              "4           46.005059               515.997280"
            ]
          },
          "execution_count": 5,
          "metadata": {},
          "output_type": "execute_result"
        }
      ],
      "source": [
        "import numpy as np\n",
        "\n",
        "# Compute age at transaction.\n",
        "age_df = trans_df.merge(profiles_df, on=\"cc_num\", how=\"left\")\n",
        "trans_df[\"age_at_transaction\"] = (age_df[\"datetime\"] - age_df[\"birthdate\"]) / np.timedelta64(1, \"Y\")\n",
        "\n",
        "# Compute days until card expires.\n",
        "card_expiry_df = trans_df.merge(credit_cards_df, on=\"cc_num\", how=\"left\")\n",
        "card_expiry_df[\"expires\"] = pd.to_datetime(card_expiry_df[\"expires\"], format=\"%m/%y\")\n",
        "trans_df[\"days_until_card_expires\"] = (card_expiry_df[\"expires\"] - card_expiry_df[\"datetime\"]) / np.timedelta64(1, \"D\")\n",
        "\n",
        "trans_df[[\"age_at_transaction\", \"days_until_card_expires\"]].head()"
      ]
    },
    {
      "cell_type": "markdown",
      "id": "5ca30f1e",
      "metadata": {
        "id": "5ca30f1e"
      },
      "source": [
        "Next, we create features that for each credit card aggregate data from multiple time steps.\n",
        "\n",
        "We start by computing the distance between consecutive transactions, which we will call `loc_delta`.\n",
        "Here we use the [Haversine distance](https://scikit-learn.org/stable/modules/generated/sklearn.metrics.pairwise.haversine_distances.html?highlight=haversine#sklearn.metrics.pairwise.haversine_distances) to quantify the distance between two longitude and latitude coordinates."
      ]
    },
    {
      "cell_type": "code",
      "execution_count": 6,
      "id": "ecf4890b",
      "metadata": {
        "id": "ecf4890b"
      },
      "outputs": [],
      "source": [
        "from math import radians\n",
        "\n",
        "# Do some simple preprocessing.\n",
        "trans_df.sort_values(\"datetime\", inplace=True)\n",
        "trans_df[[\"longitude\", \"latitude\"]] = trans_df[[\"longitude\", \"latitude\"]].applymap(radians)\n",
        "\n",
        "def haversine(long, lat):\n",
        "    \"\"\"Compute Haversine distance between each consecutive coordinate in (long, lat).\"\"\"\n",
        "\n",
        "    long_shifted = long.shift()\n",
        "    lat_shifted = lat.shift()\n",
        "    long_diff = long_shifted - long\n",
        "    lat_diff = lat_shifted - lat\n",
        "\n",
        "    a = np.sin(lat_diff/2.0)**2\n",
        "    b = np.cos(lat) * np.cos(lat_shifted) * np.sin(long_diff/2.0)**2\n",
        "    c = 2*np.arcsin(np.sqrt(a + b))\n",
        "\n",
        "    return c\n",
        "\n",
        "\n",
        "trans_df[\"loc_delta\"] = trans_df.groupby(\"cc_num\")\\\n",
        "    .apply(lambda x : haversine(x[\"longitude\"], x[\"latitude\"]))\\\n",
        "    .reset_index(level=0, drop=True)\\\n",
        "    .fillna(0)"
      ]
    },
    {
      "cell_type": "markdown",
      "id": "efe7661a",
      "metadata": {
        "id": "efe7661a"
      },
      "source": [
        "Next we compute windowed aggregates. Here we will use 4-hour windows, but feel free to experiment with different window lengths by setting `window_len` below to a value of your choice."
      ]
    },
    {
      "cell_type": "code",
      "execution_count": 7,
      "id": "c151a63d",
      "metadata": {
        "colab": {
          "base_uri": "https://localhost:8080/",
          "height": 206
        },
        "id": "c151a63d",
        "outputId": "672a89dc-fca7-4871-fbe9-ee123084ede4"
      },
      "outputs": [
        {
          "data": {
            "text/html": [
              "<div>\n",
              "<style scoped>\n",
              "    .dataframe tbody tr th:only-of-type {\n",
              "        vertical-align: middle;\n",
              "    }\n",
              "\n",
              "    .dataframe tbody tr th {\n",
              "        vertical-align: top;\n",
              "    }\n",
              "\n",
              "    .dataframe thead th {\n",
              "        text-align: right;\n",
              "    }\n",
              "</style>\n",
              "<table border=\"1\" class=\"dataframe\">\n",
              "  <thead>\n",
              "    <tr style=\"text-align: right;\">\n",
              "      <th></th>\n",
              "      <th>trans_volume_mstd</th>\n",
              "      <th>trans_volume_mavg</th>\n",
              "      <th>trans_freq</th>\n",
              "      <th>loc_delta_mavg</th>\n",
              "      <th>cc_num</th>\n",
              "      <th>datetime</th>\n",
              "    </tr>\n",
              "  </thead>\n",
              "  <tbody>\n",
              "    <tr>\n",
              "      <th>106015</th>\n",
              "      <td>73.08</td>\n",
              "      <td>73.08</td>\n",
              "      <td>73.08</td>\n",
              "      <td>0.045635</td>\n",
              "      <td>4032019521897961</td>\n",
              "      <td>2022-03-24 10:57:02</td>\n",
              "    </tr>\n",
              "    <tr>\n",
              "      <th>106016</th>\n",
              "      <td>287.33</td>\n",
              "      <td>287.33</td>\n",
              "      <td>287.33</td>\n",
              "      <td>0.045846</td>\n",
              "      <td>4032019521897961</td>\n",
              "      <td>2022-03-28 11:57:02</td>\n",
              "    </tr>\n",
              "    <tr>\n",
              "      <th>106017</th>\n",
              "      <td>53.88</td>\n",
              "      <td>53.88</td>\n",
              "      <td>53.88</td>\n",
              "      <td>0.000120</td>\n",
              "      <td>4032019521897961</td>\n",
              "      <td>2022-04-01 12:57:02</td>\n",
              "    </tr>\n",
              "    <tr>\n",
              "      <th>106018</th>\n",
              "      <td>279.73</td>\n",
              "      <td>279.73</td>\n",
              "      <td>279.73</td>\n",
              "      <td>0.045928</td>\n",
              "      <td>4032019521897961</td>\n",
              "      <td>2022-04-05 13:57:02</td>\n",
              "    </tr>\n",
              "    <tr>\n",
              "      <th>106019</th>\n",
              "      <td>73.66</td>\n",
              "      <td>73.66</td>\n",
              "      <td>73.66</td>\n",
              "      <td>0.045974</td>\n",
              "      <td>4032019521897961</td>\n",
              "      <td>2022-04-09 14:57:02</td>\n",
              "    </tr>\n",
              "  </tbody>\n",
              "</table>\n",
              "</div>"
            ],
            "text/plain": [
              "        trans_volume_mstd  trans_volume_mavg  trans_freq  loc_delta_mavg  \\\n",
              "106015              73.08              73.08       73.08        0.045635   \n",
              "106016             287.33             287.33      287.33        0.045846   \n",
              "106017              53.88              53.88       53.88        0.000120   \n",
              "106018             279.73             279.73      279.73        0.045928   \n",
              "106019              73.66              73.66       73.66        0.045974   \n",
              "\n",
              "                  cc_num            datetime  \n",
              "106015  4032019521897961 2022-03-24 10:57:02  \n",
              "106016  4032019521897961 2022-03-28 11:57:02  \n",
              "106017  4032019521897961 2022-04-01 12:57:02  \n",
              "106018  4032019521897961 2022-04-05 13:57:02  \n",
              "106019  4032019521897961 2022-04-09 14:57:02  "
            ]
          },
          "execution_count": 7,
          "metadata": {},
          "output_type": "execute_result"
        }
      ],
      "source": [
        "window_len = \"4h\"\n",
        "cc_group = trans_df[[\"cc_num\", \"amount\", \"datetime\"]].groupby(\"cc_num\").rolling(window_len, on=\"datetime\")\n",
        "\n",
        "# Moving average of transaction volume.\n",
        "df_4h_mavg = pd.DataFrame(cc_group.mean())\n",
        "df_4h_mavg.columns = [\"trans_volume_mavg\", \"datetime\"]\n",
        "df_4h_mavg = df_4h_mavg.reset_index(level=[\"cc_num\"])\n",
        "df_4h_mavg = df_4h_mavg.drop(columns=[\"cc_num\", \"datetime\"])\n",
        "df_4h_mavg = df_4h_mavg.sort_index()\n",
        "\n",
        "# Moving standard deviation of transaction volume.\n",
        "df_4h_std = pd.DataFrame(cc_group.mean())\n",
        "df_4h_std.columns = [\"trans_volume_mstd\", \"datetime\"]\n",
        "df_4h_std = df_4h_std.reset_index(level=[\"cc_num\"])\n",
        "df_4h_std = df_4h_std.drop(columns=[\"cc_num\", \"datetime\"])\n",
        "df_4h_std = df_4h_std.fillna(0)\n",
        "df_4h_std = df_4h_std.sort_index()\n",
        "window_aggs_df = df_4h_std.merge(df_4h_mavg,left_index=True, right_index=True)\n",
        "\n",
        "# Moving average of transaction frequency.\n",
        "df_4h_count = pd.DataFrame(cc_group.mean())\n",
        "df_4h_count.columns = [\"trans_freq\", \"datetime\"]\n",
        "df_4h_count = df_4h_count.reset_index(level=[\"cc_num\"])\n",
        "df_4h_count = df_4h_count.drop(columns=[\"cc_num\", \"datetime\"])\n",
        "df_4h_count = df_4h_count.sort_index()\n",
        "window_aggs_df = window_aggs_df.merge(df_4h_count,left_index=True, right_index=True)\n",
        "\n",
        "# Moving average of location difference between consecutive transactions.\n",
        "cc_group = trans_df[[\"cc_num\", \"loc_delta\", \"datetime\"]].groupby(\"cc_num\").rolling(window_len, on=\"datetime\").mean()\n",
        "df_4h_loc_delta_mavg = pd.DataFrame(cc_group)\n",
        "df_4h_loc_delta_mavg.columns = [\"loc_delta_mavg\", \"datetime\"]\n",
        "df_4h_loc_delta_mavg = df_4h_loc_delta_mavg.reset_index(level=[\"cc_num\"])\n",
        "df_4h_loc_delta_mavg = df_4h_loc_delta_mavg.drop(columns=[\"cc_num\", \"datetime\"])\n",
        "df_4h_loc_delta_mavg = df_4h_loc_delta_mavg.sort_index()\n",
        "window_aggs_df = window_aggs_df.merge(df_4h_loc_delta_mavg,left_index=True, right_index=True)\n",
        "\n",
        "window_aggs_df = window_aggs_df.merge(trans_df[[\"cc_num\", \"datetime\"]].sort_index(),left_index=True, right_index=True)\n",
        "window_aggs_df.tail()"
      ]
    },
    {
      "cell_type": "markdown",
      "id": "801557c8",
      "metadata": {
        "id": "801557c8"
      },
      "source": [
        "### Convert date time object to unix epoch in milliseconds"
      ]
    },
    {
      "cell_type": "code",
      "execution_count": 8,
      "id": "bd1c4f5e",
      "metadata": {
        "id": "bd1c4f5e"
      },
      "outputs": [],
      "source": [
        "trans_df.datetime = trans_df.datetime.values.astype(np.int64) // 10 ** 6\n",
        "window_aggs_df.datetime = window_aggs_df.datetime.values.astype(np.int64) // 10 ** 6"
      ]
    },
    {
      "cell_type": "markdown",
      "id": "1f9a0bcf",
      "metadata": {
        "id": "1f9a0bcf"
      },
      "source": [
        "## Creating feature groups\n",
        "\n",
        "A [feature group](https://docs.hopsworks.ai/feature-store-api/latest/generated/feature_group/) can be seen as a collection of conceptually related features. In our case, we will create a feature group for the transaction data and a feature group for the windowed aggregations on the transaction data. Both will have `cc_num` as primary key, which will allow us to join them when creating a dataset in the next tutorial.\n",
        "\n",
        "Feature groups can also be used to define a namespace for features. For instance, in a real-life setting we would likely want to experiment with different window lengths. In that case, we can create feature groups with identical schema for each window length. \n",
        "\n",
        "Before we can create a feature group we need to connect to our feature store."
      ]
    },
    {
      "cell_type": "code",
      "execution_count": 5,
      "id": "741f1142",
      "metadata": {},
      "outputs": [
        {
          "ename": "ConnectionError",
          "evalue": "HTTPSConnectionPool(host='my_instance', port=443): Max retries exceeded with url: /hopsworks-api/api/project/getProjectInfo/mlplatform (Caused by NewConnectionError('<urllib3.connection.HTTPSConnection object at 0x000002D55C57DDE0>: Failed to establish a new connection: [Errno 11001] getaddrinfo failed'))",
          "output_type": "error",
          "traceback": [
            "\u001b[1;31m---------------------------------------------------------------------------\u001b[0m",
            "\u001b[1;31mgaierror\u001b[0m                                  Traceback (most recent call last)",
            "File \u001b[1;32mc:\\Users\\hp\\AppData\\Local\\Programs\\Python\\Python310\\lib\\site-packages\\urllib3\\connection.py:174\u001b[0m, in \u001b[0;36mHTTPConnection._new_conn\u001b[1;34m(self)\u001b[0m\n\u001b[0;32m    173\u001b[0m \u001b[39mtry\u001b[39;00m:\n\u001b[1;32m--> 174\u001b[0m     conn \u001b[39m=\u001b[39m connection\u001b[39m.\u001b[39mcreate_connection(\n\u001b[0;32m    175\u001b[0m         (\u001b[39mself\u001b[39m\u001b[39m.\u001b[39m_dns_host, \u001b[39mself\u001b[39m\u001b[39m.\u001b[39mport), \u001b[39mself\u001b[39m\u001b[39m.\u001b[39mtimeout, \u001b[39m*\u001b[39m\u001b[39m*\u001b[39mextra_kw\n\u001b[0;32m    176\u001b[0m     )\n\u001b[0;32m    178\u001b[0m \u001b[39mexcept\u001b[39;00m SocketTimeout:\n",
            "File \u001b[1;32mc:\\Users\\hp\\AppData\\Local\\Programs\\Python\\Python310\\lib\\site-packages\\urllib3\\util\\connection.py:72\u001b[0m, in \u001b[0;36mcreate_connection\u001b[1;34m(address, timeout, source_address, socket_options)\u001b[0m\n\u001b[0;32m     68\u001b[0m     \u001b[39mreturn\u001b[39;00m six\u001b[39m.\u001b[39mraise_from(\n\u001b[0;32m     69\u001b[0m         LocationParseError(\u001b[39mu\u001b[39m\u001b[39m\"\u001b[39m\u001b[39m'\u001b[39m\u001b[39m%s\u001b[39;00m\u001b[39m'\u001b[39m\u001b[39m, label empty or too long\u001b[39m\u001b[39m\"\u001b[39m \u001b[39m%\u001b[39m host), \u001b[39mNone\u001b[39;00m\n\u001b[0;32m     70\u001b[0m     )\n\u001b[1;32m---> 72\u001b[0m \u001b[39mfor\u001b[39;00m res \u001b[39min\u001b[39;00m socket\u001b[39m.\u001b[39;49mgetaddrinfo(host, port, family, socket\u001b[39m.\u001b[39;49mSOCK_STREAM):\n\u001b[0;32m     73\u001b[0m     af, socktype, proto, canonname, sa \u001b[39m=\u001b[39m res\n",
            "File \u001b[1;32mc:\\Users\\hp\\AppData\\Local\\Programs\\Python\\Python310\\lib\\socket.py:955\u001b[0m, in \u001b[0;36mgetaddrinfo\u001b[1;34m(host, port, family, type, proto, flags)\u001b[0m\n\u001b[0;32m    954\u001b[0m addrlist \u001b[39m=\u001b[39m []\n\u001b[1;32m--> 955\u001b[0m \u001b[39mfor\u001b[39;00m res \u001b[39min\u001b[39;00m _socket\u001b[39m.\u001b[39;49mgetaddrinfo(host, port, family, \u001b[39mtype\u001b[39;49m, proto, flags):\n\u001b[0;32m    956\u001b[0m     af, socktype, proto, canonname, sa \u001b[39m=\u001b[39m res\n",
            "\u001b[1;31mgaierror\u001b[0m: [Errno 11001] getaddrinfo failed",
            "\nDuring handling of the above exception, another exception occurred:\n",
            "\u001b[1;31mNewConnectionError\u001b[0m                        Traceback (most recent call last)",
            "File \u001b[1;32mc:\\Users\\hp\\AppData\\Local\\Programs\\Python\\Python310\\lib\\site-packages\\urllib3\\connectionpool.py:703\u001b[0m, in \u001b[0;36mHTTPConnectionPool.urlopen\u001b[1;34m(self, method, url, body, headers, retries, redirect, assert_same_host, timeout, pool_timeout, release_conn, chunked, body_pos, **response_kw)\u001b[0m\n\u001b[0;32m    702\u001b[0m \u001b[39m# Make the request on the httplib connection object.\u001b[39;00m\n\u001b[1;32m--> 703\u001b[0m httplib_response \u001b[39m=\u001b[39m \u001b[39mself\u001b[39;49m\u001b[39m.\u001b[39;49m_make_request(\n\u001b[0;32m    704\u001b[0m     conn,\n\u001b[0;32m    705\u001b[0m     method,\n\u001b[0;32m    706\u001b[0m     url,\n\u001b[0;32m    707\u001b[0m     timeout\u001b[39m=\u001b[39;49mtimeout_obj,\n\u001b[0;32m    708\u001b[0m     body\u001b[39m=\u001b[39;49mbody,\n\u001b[0;32m    709\u001b[0m     headers\u001b[39m=\u001b[39;49mheaders,\n\u001b[0;32m    710\u001b[0m     chunked\u001b[39m=\u001b[39;49mchunked,\n\u001b[0;32m    711\u001b[0m )\n\u001b[0;32m    713\u001b[0m \u001b[39m# If we're going to release the connection in ``finally:``, then\u001b[39;00m\n\u001b[0;32m    714\u001b[0m \u001b[39m# the response doesn't need to know about the connection. Otherwise\u001b[39;00m\n\u001b[0;32m    715\u001b[0m \u001b[39m# it will also try to release it and we'll have a double-release\u001b[39;00m\n\u001b[0;32m    716\u001b[0m \u001b[39m# mess.\u001b[39;00m\n",
            "File \u001b[1;32mc:\\Users\\hp\\AppData\\Local\\Programs\\Python\\Python310\\lib\\site-packages\\urllib3\\connectionpool.py:386\u001b[0m, in \u001b[0;36mHTTPConnectionPool._make_request\u001b[1;34m(self, conn, method, url, timeout, chunked, **httplib_request_kw)\u001b[0m\n\u001b[0;32m    385\u001b[0m \u001b[39mtry\u001b[39;00m:\n\u001b[1;32m--> 386\u001b[0m     \u001b[39mself\u001b[39;49m\u001b[39m.\u001b[39;49m_validate_conn(conn)\n\u001b[0;32m    387\u001b[0m \u001b[39mexcept\u001b[39;00m (SocketTimeout, BaseSSLError) \u001b[39mas\u001b[39;00m e:\n\u001b[0;32m    388\u001b[0m     \u001b[39m# Py2 raises this as a BaseSSLError, Py3 raises it as socket timeout.\u001b[39;00m\n",
            "File \u001b[1;32mc:\\Users\\hp\\AppData\\Local\\Programs\\Python\\Python310\\lib\\site-packages\\urllib3\\connectionpool.py:1040\u001b[0m, in \u001b[0;36mHTTPSConnectionPool._validate_conn\u001b[1;34m(self, conn)\u001b[0m\n\u001b[0;32m   1039\u001b[0m \u001b[39mif\u001b[39;00m \u001b[39mnot\u001b[39;00m \u001b[39mgetattr\u001b[39m(conn, \u001b[39m\"\u001b[39m\u001b[39msock\u001b[39m\u001b[39m\"\u001b[39m, \u001b[39mNone\u001b[39;00m):  \u001b[39m# AppEngine might not have  `.sock`\u001b[39;00m\n\u001b[1;32m-> 1040\u001b[0m     conn\u001b[39m.\u001b[39;49mconnect()\n\u001b[0;32m   1042\u001b[0m \u001b[39mif\u001b[39;00m \u001b[39mnot\u001b[39;00m conn\u001b[39m.\u001b[39mis_verified:\n",
            "File \u001b[1;32mc:\\Users\\hp\\AppData\\Local\\Programs\\Python\\Python310\\lib\\site-packages\\urllib3\\connection.py:358\u001b[0m, in \u001b[0;36mHTTPSConnection.connect\u001b[1;34m(self)\u001b[0m\n\u001b[0;32m    356\u001b[0m \u001b[39mdef\u001b[39;00m \u001b[39mconnect\u001b[39m(\u001b[39mself\u001b[39m):\n\u001b[0;32m    357\u001b[0m     \u001b[39m# Add certificate verification\u001b[39;00m\n\u001b[1;32m--> 358\u001b[0m     \u001b[39mself\u001b[39m\u001b[39m.\u001b[39msock \u001b[39m=\u001b[39m conn \u001b[39m=\u001b[39m \u001b[39mself\u001b[39;49m\u001b[39m.\u001b[39;49m_new_conn()\n\u001b[0;32m    359\u001b[0m     hostname \u001b[39m=\u001b[39m \u001b[39mself\u001b[39m\u001b[39m.\u001b[39mhost\n",
            "File \u001b[1;32mc:\\Users\\hp\\AppData\\Local\\Programs\\Python\\Python310\\lib\\site-packages\\urllib3\\connection.py:186\u001b[0m, in \u001b[0;36mHTTPConnection._new_conn\u001b[1;34m(self)\u001b[0m\n\u001b[0;32m    185\u001b[0m \u001b[39mexcept\u001b[39;00m SocketError \u001b[39mas\u001b[39;00m e:\n\u001b[1;32m--> 186\u001b[0m     \u001b[39mraise\u001b[39;00m NewConnectionError(\n\u001b[0;32m    187\u001b[0m         \u001b[39mself\u001b[39m, \u001b[39m\"\u001b[39m\u001b[39mFailed to establish a new connection: \u001b[39m\u001b[39m%s\u001b[39;00m\u001b[39m\"\u001b[39m \u001b[39m%\u001b[39m e\n\u001b[0;32m    188\u001b[0m     )\n\u001b[0;32m    190\u001b[0m \u001b[39mreturn\u001b[39;00m conn\n",
            "\u001b[1;31mNewConnectionError\u001b[0m: <urllib3.connection.HTTPSConnection object at 0x000002D55C57DDE0>: Failed to establish a new connection: [Errno 11001] getaddrinfo failed",
            "\nDuring handling of the above exception, another exception occurred:\n",
            "\u001b[1;31mMaxRetryError\u001b[0m                             Traceback (most recent call last)",
            "File \u001b[1;32mc:\\Users\\hp\\AppData\\Local\\Programs\\Python\\Python310\\lib\\site-packages\\requests\\adapters.py:489\u001b[0m, in \u001b[0;36mHTTPAdapter.send\u001b[1;34m(self, request, stream, timeout, verify, cert, proxies)\u001b[0m\n\u001b[0;32m    488\u001b[0m \u001b[39mif\u001b[39;00m \u001b[39mnot\u001b[39;00m chunked:\n\u001b[1;32m--> 489\u001b[0m     resp \u001b[39m=\u001b[39m conn\u001b[39m.\u001b[39;49murlopen(\n\u001b[0;32m    490\u001b[0m         method\u001b[39m=\u001b[39;49mrequest\u001b[39m.\u001b[39;49mmethod,\n\u001b[0;32m    491\u001b[0m         url\u001b[39m=\u001b[39;49murl,\n\u001b[0;32m    492\u001b[0m         body\u001b[39m=\u001b[39;49mrequest\u001b[39m.\u001b[39;49mbody,\n\u001b[0;32m    493\u001b[0m         headers\u001b[39m=\u001b[39;49mrequest\u001b[39m.\u001b[39;49mheaders,\n\u001b[0;32m    494\u001b[0m         redirect\u001b[39m=\u001b[39;49m\u001b[39mFalse\u001b[39;49;00m,\n\u001b[0;32m    495\u001b[0m         assert_same_host\u001b[39m=\u001b[39;49m\u001b[39mFalse\u001b[39;49;00m,\n\u001b[0;32m    496\u001b[0m         preload_content\u001b[39m=\u001b[39;49m\u001b[39mFalse\u001b[39;49;00m,\n\u001b[0;32m    497\u001b[0m         decode_content\u001b[39m=\u001b[39;49m\u001b[39mFalse\u001b[39;49;00m,\n\u001b[0;32m    498\u001b[0m         retries\u001b[39m=\u001b[39;49m\u001b[39mself\u001b[39;49m\u001b[39m.\u001b[39;49mmax_retries,\n\u001b[0;32m    499\u001b[0m         timeout\u001b[39m=\u001b[39;49mtimeout,\n\u001b[0;32m    500\u001b[0m     )\n\u001b[0;32m    502\u001b[0m \u001b[39m# Send the request.\u001b[39;00m\n\u001b[0;32m    503\u001b[0m \u001b[39melse\u001b[39;00m:\n",
            "File \u001b[1;32mc:\\Users\\hp\\AppData\\Local\\Programs\\Python\\Python310\\lib\\site-packages\\urllib3\\connectionpool.py:785\u001b[0m, in \u001b[0;36mHTTPConnectionPool.urlopen\u001b[1;34m(self, method, url, body, headers, retries, redirect, assert_same_host, timeout, pool_timeout, release_conn, chunked, body_pos, **response_kw)\u001b[0m\n\u001b[0;32m    783\u001b[0m     e \u001b[39m=\u001b[39m ProtocolError(\u001b[39m\"\u001b[39m\u001b[39mConnection aborted.\u001b[39m\u001b[39m\"\u001b[39m, e)\n\u001b[1;32m--> 785\u001b[0m retries \u001b[39m=\u001b[39m retries\u001b[39m.\u001b[39;49mincrement(\n\u001b[0;32m    786\u001b[0m     method, url, error\u001b[39m=\u001b[39;49me, _pool\u001b[39m=\u001b[39;49m\u001b[39mself\u001b[39;49m, _stacktrace\u001b[39m=\u001b[39;49msys\u001b[39m.\u001b[39;49mexc_info()[\u001b[39m2\u001b[39;49m]\n\u001b[0;32m    787\u001b[0m )\n\u001b[0;32m    788\u001b[0m retries\u001b[39m.\u001b[39msleep()\n",
            "File \u001b[1;32mc:\\Users\\hp\\AppData\\Local\\Programs\\Python\\Python310\\lib\\site-packages\\urllib3\\util\\retry.py:592\u001b[0m, in \u001b[0;36mRetry.increment\u001b[1;34m(self, method, url, response, error, _pool, _stacktrace)\u001b[0m\n\u001b[0;32m    591\u001b[0m \u001b[39mif\u001b[39;00m new_retry\u001b[39m.\u001b[39mis_exhausted():\n\u001b[1;32m--> 592\u001b[0m     \u001b[39mraise\u001b[39;00m MaxRetryError(_pool, url, error \u001b[39mor\u001b[39;00m ResponseError(cause))\n\u001b[0;32m    594\u001b[0m log\u001b[39m.\u001b[39mdebug(\u001b[39m\"\u001b[39m\u001b[39mIncremented Retry for (url=\u001b[39m\u001b[39m'\u001b[39m\u001b[39m%s\u001b[39;00m\u001b[39m'\u001b[39m\u001b[39m): \u001b[39m\u001b[39m%r\u001b[39;00m\u001b[39m\"\u001b[39m, url, new_retry)\n",
            "\u001b[1;31mMaxRetryError\u001b[0m: HTTPSConnectionPool(host='my_instance', port=443): Max retries exceeded with url: /hopsworks-api/api/project/getProjectInfo/mlplatform (Caused by NewConnectionError('<urllib3.connection.HTTPSConnection object at 0x000002D55C57DDE0>: Failed to establish a new connection: [Errno 11001] getaddrinfo failed'))",
            "\nDuring handling of the above exception, another exception occurred:\n",
            "\u001b[1;31mConnectionError\u001b[0m                           Traceback (most recent call last)",
            "\u001b[1;32mc:\\Users\\hp\\Downloads\\backend\\Feature_groups_with_hopsworks.ipynb Cell 16\u001b[0m in \u001b[0;36m<cell line: 2>\u001b[1;34m()\u001b[0m\n\u001b[0;32m      <a href='vscode-notebook-cell:/c%3A/Users/hp/Downloads/backend/Feature_groups_with_hopsworks.ipynb#ch0000026?line=0'>1</a>\u001b[0m \u001b[39mimport\u001b[39;00m \u001b[39mhsfs\u001b[39;00m\n\u001b[1;32m----> <a href='vscode-notebook-cell:/c%3A/Users/hp/Downloads/backend/Feature_groups_with_hopsworks.ipynb#ch0000026?line=1'>2</a>\u001b[0m conn \u001b[39m=\u001b[39m hsfs\u001b[39m.\u001b[39;49mconnection(\n\u001b[0;32m      <a href='vscode-notebook-cell:/c%3A/Users/hp/Downloads/backend/Feature_groups_with_hopsworks.ipynb#ch0000026?line=2'>3</a>\u001b[0m     host\u001b[39m=\u001b[39;49m\u001b[39m'\u001b[39;49m\u001b[39mmy_instance\u001b[39;49m\u001b[39m'\u001b[39;49m,                 \u001b[39m# DNS of your Feature Store instance\u001b[39;49;00m\n\u001b[0;32m      <a href='vscode-notebook-cell:/c%3A/Users/hp/Downloads/backend/Feature_groups_with_hopsworks.ipynb#ch0000026?line=3'>4</a>\u001b[0m     port\u001b[39m=\u001b[39;49m\u001b[39m443\u001b[39;49m,                           \u001b[39m# Port to reach your Hopsworks instance, defaults to 443\u001b[39;49;00m\n\u001b[0;32m      <a href='vscode-notebook-cell:/c%3A/Users/hp/Downloads/backend/Feature_groups_with_hopsworks.ipynb#ch0000026?line=4'>5</a>\u001b[0m     project\u001b[39m=\u001b[39;49m\u001b[39m'\u001b[39;49m\u001b[39mmlplatform\u001b[39;49m\u001b[39m'\u001b[39;49m,               \u001b[39m# Name of your Hopsworks Feature Store project\u001b[39;49;00m\n\u001b[0;32m      <a href='vscode-notebook-cell:/c%3A/Users/hp/Downloads/backend/Feature_groups_with_hopsworks.ipynb#ch0000026?line=5'>6</a>\u001b[0m     api_key_value\u001b[39m=\u001b[39;49m\u001b[39m'\u001b[39;49m\u001b[39mapikey\u001b[39;49m\u001b[39m'\u001b[39;49m,             \u001b[39m# The API key to authenticate with Hopsworks\u001b[39;49;00m\n\u001b[0;32m      <a href='vscode-notebook-cell:/c%3A/Users/hp/Downloads/backend/Feature_groups_with_hopsworks.ipynb#ch0000026?line=6'>7</a>\u001b[0m     hostname_verification\u001b[39m=\u001b[39;49m\u001b[39mTrue\u001b[39;49;00m          \u001b[39m# Disable for self-signed certificates\u001b[39;49;00m\n\u001b[0;32m      <a href='vscode-notebook-cell:/c%3A/Users/hp/Downloads/backend/Feature_groups_with_hopsworks.ipynb#ch0000026?line=7'>8</a>\u001b[0m )\n\u001b[0;32m      <a href='vscode-notebook-cell:/c%3A/Users/hp/Downloads/backend/Feature_groups_with_hopsworks.ipynb#ch0000026?line=8'>9</a>\u001b[0m fs \u001b[39m=\u001b[39m conn\u001b[39m.\u001b[39mget_feature_store()\n",
            "File \u001b[1;32mc:\\Users\\hp\\AppData\\Local\\Programs\\Python\\Python310\\lib\\site-packages\\hsfs\\connection.py:307\u001b[0m, in \u001b[0;36mConnection.connection\u001b[1;34m(cls, host, port, project, engine, region_name, secrets_store, hostname_verification, trust_store_path, cert_folder, api_key_file, api_key_value)\u001b[0m\n\u001b[0;32m    291\u001b[0m \u001b[39m@classmethod\u001b[39m\n\u001b[0;32m    292\u001b[0m \u001b[39mdef\u001b[39;00m \u001b[39mconnection\u001b[39m(\n\u001b[0;32m    293\u001b[0m     \u001b[39mcls\u001b[39m,\n\u001b[1;32m   (...)\u001b[0m\n\u001b[0;32m    304\u001b[0m     api_key_value: \u001b[39mstr\u001b[39m \u001b[39m=\u001b[39m \u001b[39mNone\u001b[39;00m,\n\u001b[0;32m    305\u001b[0m ):\n\u001b[0;32m    306\u001b[0m     \u001b[39m\"\"\"Connection factory method, accessible through `hsfs.connection()`.\"\"\"\u001b[39;00m\n\u001b[1;32m--> 307\u001b[0m     \u001b[39mreturn\u001b[39;00m \u001b[39mcls\u001b[39;49m(\n\u001b[0;32m    308\u001b[0m         host,\n\u001b[0;32m    309\u001b[0m         port,\n\u001b[0;32m    310\u001b[0m         project,\n\u001b[0;32m    311\u001b[0m         engine,\n\u001b[0;32m    312\u001b[0m         region_name,\n\u001b[0;32m    313\u001b[0m         secrets_store,\n\u001b[0;32m    314\u001b[0m         hostname_verification,\n\u001b[0;32m    315\u001b[0m         trust_store_path,\n\u001b[0;32m    316\u001b[0m         cert_folder,\n\u001b[0;32m    317\u001b[0m         api_key_file,\n\u001b[0;32m    318\u001b[0m         api_key_value,\n\u001b[0;32m    319\u001b[0m     )\n",
            "File \u001b[1;32mc:\\Users\\hp\\AppData\\Local\\Programs\\Python\\Python310\\lib\\site-packages\\hsfs\\connection.py:140\u001b[0m, in \u001b[0;36mConnection.__init__\u001b[1;34m(self, host, port, project, engine, region_name, secrets_store, hostname_verification, trust_store_path, cert_folder, api_key_file, api_key_value)\u001b[0m\n\u001b[0;32m    137\u001b[0m \u001b[39mself\u001b[39m\u001b[39m.\u001b[39m_connected \u001b[39m=\u001b[39m \u001b[39mFalse\u001b[39;00m\n\u001b[0;32m    138\u001b[0m \u001b[39mself\u001b[39m\u001b[39m.\u001b[39m_rules_api \u001b[39m=\u001b[39m rules_api\u001b[39m.\u001b[39mRulesApi()\n\u001b[1;32m--> 140\u001b[0m \u001b[39mself\u001b[39;49m\u001b[39m.\u001b[39;49mconnect()\n",
            "File \u001b[1;32mc:\\Users\\hp\\AppData\\Local\\Programs\\Python\\Python310\\lib\\site-packages\\hsfs\\decorators.py:25\u001b[0m, in \u001b[0;36mnot_connected.<locals>.if_not_connected\u001b[1;34m(inst, *args, **kwargs)\u001b[0m\n\u001b[0;32m     23\u001b[0m \u001b[39mif\u001b[39;00m inst\u001b[39m.\u001b[39m_connected:\n\u001b[0;32m     24\u001b[0m     \u001b[39mraise\u001b[39;00m HopsworksConnectionError\n\u001b[1;32m---> 25\u001b[0m \u001b[39mreturn\u001b[39;00m fn(inst, \u001b[39m*\u001b[39margs, \u001b[39m*\u001b[39m\u001b[39m*\u001b[39mkwargs)\n",
            "File \u001b[1;32mc:\\Users\\hp\\AppData\\Local\\Programs\\Python\\Python310\\lib\\site-packages\\hsfs\\connection.py:199\u001b[0m, in \u001b[0;36mConnection.connect\u001b[1;34m(self)\u001b[0m\n\u001b[0;32m    197\u001b[0m \u001b[39m# init client\u001b[39;00m\n\u001b[0;32m    198\u001b[0m \u001b[39mif\u001b[39;00m client\u001b[39m.\u001b[39mbase\u001b[39m.\u001b[39mClient\u001b[39m.\u001b[39mREST_ENDPOINT \u001b[39mnot\u001b[39;00m \u001b[39min\u001b[39;00m os\u001b[39m.\u001b[39menviron:\n\u001b[1;32m--> 199\u001b[0m     client\u001b[39m.\u001b[39;49minit(\n\u001b[0;32m    200\u001b[0m         \u001b[39m\"\u001b[39;49m\u001b[39mexternal\u001b[39;49m\u001b[39m\"\u001b[39;49m,\n\u001b[0;32m    201\u001b[0m         \u001b[39mself\u001b[39;49m\u001b[39m.\u001b[39;49m_host,\n\u001b[0;32m    202\u001b[0m         \u001b[39mself\u001b[39;49m\u001b[39m.\u001b[39;49m_port,\n\u001b[0;32m    203\u001b[0m         \u001b[39mself\u001b[39;49m\u001b[39m.\u001b[39;49m_project,\n\u001b[0;32m    204\u001b[0m         \u001b[39mself\u001b[39;49m\u001b[39m.\u001b[39;49m_engine,\n\u001b[0;32m    205\u001b[0m         \u001b[39mself\u001b[39;49m\u001b[39m.\u001b[39;49m_region_name,\n\u001b[0;32m    206\u001b[0m         \u001b[39mself\u001b[39;49m\u001b[39m.\u001b[39;49m_secrets_store,\n\u001b[0;32m    207\u001b[0m         \u001b[39mself\u001b[39;49m\u001b[39m.\u001b[39;49m_hostname_verification,\n\u001b[0;32m    208\u001b[0m         \u001b[39mself\u001b[39;49m\u001b[39m.\u001b[39;49m_trust_store_path,\n\u001b[0;32m    209\u001b[0m         \u001b[39mself\u001b[39;49m\u001b[39m.\u001b[39;49m_cert_folder,\n\u001b[0;32m    210\u001b[0m         \u001b[39mself\u001b[39;49m\u001b[39m.\u001b[39;49m_api_key_file,\n\u001b[0;32m    211\u001b[0m         \u001b[39mself\u001b[39;49m\u001b[39m.\u001b[39;49m_api_key_value,\n\u001b[0;32m    212\u001b[0m     )\n\u001b[0;32m    213\u001b[0m \u001b[39melse\u001b[39;00m:\n\u001b[0;32m    214\u001b[0m     client\u001b[39m.\u001b[39minit(\u001b[39m\"\u001b[39m\u001b[39mhopsworks\u001b[39m\u001b[39m\"\u001b[39m)\n",
            "File \u001b[1;32mc:\\Users\\hp\\AppData\\Local\\Programs\\Python\\Python310\\lib\\site-packages\\hsfs\\client\\__init__.py:41\u001b[0m, in \u001b[0;36minit\u001b[1;34m(client_type, host, port, project, engine, region_name, secrets_store, hostname_verification, trust_store_path, cert_folder, api_key_file, api_key_value)\u001b[0m\n\u001b[0;32m     39\u001b[0m     _client \u001b[39m=\u001b[39m hopsworks\u001b[39m.\u001b[39mClient()\n\u001b[0;32m     40\u001b[0m \u001b[39melif\u001b[39;00m client_type \u001b[39m==\u001b[39m \u001b[39m\"\u001b[39m\u001b[39mexternal\u001b[39m\u001b[39m\"\u001b[39m:\n\u001b[1;32m---> 41\u001b[0m     _client \u001b[39m=\u001b[39m external\u001b[39m.\u001b[39;49mClient(\n\u001b[0;32m     42\u001b[0m         host,\n\u001b[0;32m     43\u001b[0m         port,\n\u001b[0;32m     44\u001b[0m         project,\n\u001b[0;32m     45\u001b[0m         engine,\n\u001b[0;32m     46\u001b[0m         region_name,\n\u001b[0;32m     47\u001b[0m         secrets_store,\n\u001b[0;32m     48\u001b[0m         hostname_verification,\n\u001b[0;32m     49\u001b[0m         trust_store_path,\n\u001b[0;32m     50\u001b[0m         cert_folder,\n\u001b[0;32m     51\u001b[0m         api_key_file,\n\u001b[0;32m     52\u001b[0m         api_key_value,\n\u001b[0;32m     53\u001b[0m     )\n",
            "File \u001b[1;32mc:\\Users\\hp\\AppData\\Local\\Programs\\Python\\Python310\\lib\\site-packages\\hsfs\\client\\external.py:74\u001b[0m, in \u001b[0;36mClient.__init__\u001b[1;34m(self, host, port, project, engine, region_name, secrets_store, hostname_verification, trust_store_path, cert_folder, api_key_file, api_key_value)\u001b[0m\n\u001b[0;32m     71\u001b[0m \u001b[39mself\u001b[39m\u001b[39m.\u001b[39m_connected \u001b[39m=\u001b[39m \u001b[39mTrue\u001b[39;00m\n\u001b[0;32m     72\u001b[0m \u001b[39mself\u001b[39m\u001b[39m.\u001b[39m_verify \u001b[39m=\u001b[39m \u001b[39mself\u001b[39m\u001b[39m.\u001b[39m_get_verify(\u001b[39mself\u001b[39m\u001b[39m.\u001b[39m_host, trust_store_path)\n\u001b[1;32m---> 74\u001b[0m project_info \u001b[39m=\u001b[39m \u001b[39mself\u001b[39;49m\u001b[39m.\u001b[39;49m_get_project_info(\u001b[39mself\u001b[39;49m\u001b[39m.\u001b[39;49m_project_name)\n\u001b[0;32m     75\u001b[0m \u001b[39mself\u001b[39m\u001b[39m.\u001b[39m_project_id \u001b[39m=\u001b[39m \u001b[39mstr\u001b[39m(project_info[\u001b[39m\"\u001b[39m\u001b[39mprojectId\u001b[39m\u001b[39m\"\u001b[39m])\n\u001b[0;32m     77\u001b[0m \u001b[39mself\u001b[39m\u001b[39m.\u001b[39m_cert_key \u001b[39m=\u001b[39m \u001b[39mNone\u001b[39;00m\n",
            "File \u001b[1;32mc:\\Users\\hp\\AppData\\Local\\Programs\\Python\\Python310\\lib\\site-packages\\hsfs\\client\\external.py:250\u001b[0m, in \u001b[0;36mClient._get_project_info\u001b[1;34m(self, project_name)\u001b[0m\n\u001b[0;32m    242\u001b[0m \u001b[39mdef\u001b[39;00m \u001b[39m_get_project_info\u001b[39m(\u001b[39mself\u001b[39m, project_name):\n\u001b[0;32m    243\u001b[0m     \u001b[39m\"\"\"Makes a REST call to hopsworks to get all metadata of a project for the provided project.\u001b[39;00m\n\u001b[0;32m    244\u001b[0m \n\u001b[0;32m    245\u001b[0m \u001b[39m    :param project_name: the name of the project\u001b[39;00m\n\u001b[1;32m   (...)\u001b[0m\n\u001b[0;32m    248\u001b[0m \u001b[39m    :rtype: dict\u001b[39;00m\n\u001b[0;32m    249\u001b[0m \u001b[39m    \"\"\"\u001b[39;00m\n\u001b[1;32m--> 250\u001b[0m     \u001b[39mreturn\u001b[39;00m \u001b[39mself\u001b[39;49m\u001b[39m.\u001b[39;49m_send_request(\u001b[39m\"\u001b[39;49m\u001b[39mGET\u001b[39;49m\u001b[39m\"\u001b[39;49m, [\u001b[39m\"\u001b[39;49m\u001b[39mproject\u001b[39;49m\u001b[39m\"\u001b[39;49m, \u001b[39m\"\u001b[39;49m\u001b[39mgetProjectInfo\u001b[39;49m\u001b[39m\"\u001b[39;49m, project_name])\n",
            "File \u001b[1;32mc:\\Users\\hp\\AppData\\Local\\Programs\\Python\\Python310\\lib\\site-packages\\hsfs\\decorators.py:35\u001b[0m, in \u001b[0;36mconnected.<locals>.if_connected\u001b[1;34m(inst, *args, **kwargs)\u001b[0m\n\u001b[0;32m     33\u001b[0m \u001b[39mif\u001b[39;00m \u001b[39mnot\u001b[39;00m inst\u001b[39m.\u001b[39m_connected:\n\u001b[0;32m     34\u001b[0m     \u001b[39mraise\u001b[39;00m NoHopsworksConnectionError\n\u001b[1;32m---> 35\u001b[0m \u001b[39mreturn\u001b[39;00m fn(inst, \u001b[39m*\u001b[39margs, \u001b[39m*\u001b[39m\u001b[39m*\u001b[39mkwargs)\n",
            "File \u001b[1;32mc:\\Users\\hp\\AppData\\Local\\Programs\\Python\\Python310\\lib\\site-packages\\hsfs\\client\\base.py:145\u001b[0m, in \u001b[0;36mClient._send_request\u001b[1;34m(self, method, path_params, query_params, headers, data, stream, files)\u001b[0m\n\u001b[0;32m    134\u001b[0m request \u001b[39m=\u001b[39m requests\u001b[39m.\u001b[39mRequest(\n\u001b[0;32m    135\u001b[0m     method,\n\u001b[0;32m    136\u001b[0m     url\u001b[39m=\u001b[39murl,\n\u001b[1;32m   (...)\u001b[0m\n\u001b[0;32m    141\u001b[0m     files\u001b[39m=\u001b[39mfiles,\n\u001b[0;32m    142\u001b[0m )\n\u001b[0;32m    144\u001b[0m prepped \u001b[39m=\u001b[39m \u001b[39mself\u001b[39m\u001b[39m.\u001b[39m_session\u001b[39m.\u001b[39mprepare_request(request)\n\u001b[1;32m--> 145\u001b[0m response \u001b[39m=\u001b[39m \u001b[39mself\u001b[39;49m\u001b[39m.\u001b[39;49m_session\u001b[39m.\u001b[39;49msend(prepped, verify\u001b[39m=\u001b[39;49m\u001b[39mself\u001b[39;49m\u001b[39m.\u001b[39;49m_verify, stream\u001b[39m=\u001b[39;49mstream)\n\u001b[0;32m    147\u001b[0m \u001b[39mif\u001b[39;00m response\u001b[39m.\u001b[39mstatus_code \u001b[39m==\u001b[39m \u001b[39m401\u001b[39m \u001b[39mand\u001b[39;00m \u001b[39mself\u001b[39m\u001b[39m.\u001b[39mREST_ENDPOINT \u001b[39min\u001b[39;00m os\u001b[39m.\u001b[39menviron:\n\u001b[0;32m    148\u001b[0m     \u001b[39m# refresh token and retry request - only on hopsworks\u001b[39;00m\n\u001b[0;32m    149\u001b[0m     \u001b[39mself\u001b[39m\u001b[39m.\u001b[39m_auth \u001b[39m=\u001b[39m auth\u001b[39m.\u001b[39mBearerAuth(\u001b[39mself\u001b[39m\u001b[39m.\u001b[39m_read_jwt())\n",
            "File \u001b[1;32mc:\\Users\\hp\\AppData\\Local\\Programs\\Python\\Python310\\lib\\site-packages\\requests\\sessions.py:701\u001b[0m, in \u001b[0;36mSession.send\u001b[1;34m(self, request, **kwargs)\u001b[0m\n\u001b[0;32m    698\u001b[0m start \u001b[39m=\u001b[39m preferred_clock()\n\u001b[0;32m    700\u001b[0m \u001b[39m# Send the request\u001b[39;00m\n\u001b[1;32m--> 701\u001b[0m r \u001b[39m=\u001b[39m adapter\u001b[39m.\u001b[39msend(request, \u001b[39m*\u001b[39m\u001b[39m*\u001b[39mkwargs)\n\u001b[0;32m    703\u001b[0m \u001b[39m# Total elapsed time of the request (approximately)\u001b[39;00m\n\u001b[0;32m    704\u001b[0m elapsed \u001b[39m=\u001b[39m preferred_clock() \u001b[39m-\u001b[39m start\n",
            "File \u001b[1;32mc:\\Users\\hp\\AppData\\Local\\Programs\\Python\\Python310\\lib\\site-packages\\requests\\adapters.py:565\u001b[0m, in \u001b[0;36mHTTPAdapter.send\u001b[1;34m(self, request, stream, timeout, verify, cert, proxies)\u001b[0m\n\u001b[0;32m    561\u001b[0m     \u001b[39mif\u001b[39;00m \u001b[39misinstance\u001b[39m(e\u001b[39m.\u001b[39mreason, _SSLError):\n\u001b[0;32m    562\u001b[0m         \u001b[39m# This branch is for urllib3 v1.22 and later.\u001b[39;00m\n\u001b[0;32m    563\u001b[0m         \u001b[39mraise\u001b[39;00m SSLError(e, request\u001b[39m=\u001b[39mrequest)\n\u001b[1;32m--> 565\u001b[0m     \u001b[39mraise\u001b[39;00m \u001b[39mConnectionError\u001b[39;00m(e, request\u001b[39m=\u001b[39mrequest)\n\u001b[0;32m    567\u001b[0m \u001b[39mexcept\u001b[39;00m ClosedPoolError \u001b[39mas\u001b[39;00m e:\n\u001b[0;32m    568\u001b[0m     \u001b[39mraise\u001b[39;00m \u001b[39mConnectionError\u001b[39;00m(e, request\u001b[39m=\u001b[39mrequest)\n",
            "\u001b[1;31mConnectionError\u001b[0m: HTTPSConnectionPool(host='my_instance', port=443): Max retries exceeded with url: /hopsworks-api/api/project/getProjectInfo/mlplatform (Caused by NewConnectionError('<urllib3.connection.HTTPSConnection object at 0x000002D55C57DDE0>: Failed to establish a new connection: [Errno 11001] getaddrinfo failed'))"
          ]
        }
      ],
      "source": [
        "import hsfs\n",
        "conn = hsfs.connection(\n",
        "    host='my_instance',                 # DNS of your Feature Store instance\n",
        "    port=443,                           # Port to reach your Hopsworks instance, defaults to 443\n",
        "    project='mlplatform',               # Name of your Hopsworks Feature Store project\n",
        "    api_key_value='apikey',             # The API key to authenticate with Hopsworks\n",
        "    hostname_verification=True          # Disable for self-signed certificates\n",
        ")\n",
        "fs = conn.get_feature_store()           # Get the project's default feature store\n"
      ]
    },
    {
      "cell_type": "code",
      "execution_count": 6,
      "id": "0a9cde37",
      "metadata": {
        "colab": {
          "base_uri": "https://localhost:8080/"
        },
        "id": "0a9cde37",
        "outputId": "ee33bc69-9ed3-4f15-b216-299d0e0316c7"
      },
      "outputs": [
        {
          "ename": "AttributeError",
          "evalue": "module 'hopsworks' has no attribute 'login'",
          "output_type": "error",
          "traceback": [
            "\u001b[1;31m---------------------------------------------------------------------------\u001b[0m",
            "\u001b[1;31mAttributeError\u001b[0m                            Traceback (most recent call last)",
            "\u001b[1;32mc:\\Users\\hp\\Downloads\\backend\\Feature_groups_with_hopsworks.ipynb Cell 17\u001b[0m in \u001b[0;36m<cell line: 2>\u001b[1;34m()\u001b[0m\n\u001b[0;32m      <a href='vscode-notebook-cell:/c%3A/Users/hp/Downloads/backend/Feature_groups_with_hopsworks.ipynb#ch0000015?line=0'>1</a>\u001b[0m \u001b[39mimport\u001b[39;00m \u001b[39mhopsworks\u001b[39;00m\n\u001b[1;32m----> <a href='vscode-notebook-cell:/c%3A/Users/hp/Downloads/backend/Feature_groups_with_hopsworks.ipynb#ch0000015?line=1'>2</a>\u001b[0m project \u001b[39m=\u001b[39m hopsworks\u001b[39m.\u001b[39;49mlogin()\n\u001b[0;32m      <a href='vscode-notebook-cell:/c%3A/Users/hp/Downloads/backend/Feature_groups_with_hopsworks.ipynb#ch0000015?line=2'>3</a>\u001b[0m fs \u001b[39m=\u001b[39m project\u001b[39m.\u001b[39mget_feature_store()\n",
            "\u001b[1;31mAttributeError\u001b[0m: module 'hopsworks' has no attribute 'login'"
          ]
        }
      ],
      "source": [
        "import hopsworks\n",
        "project = hopsworks.login()\n",
        "fs = project.get_feature_store()"
      ]
    },
    {
      "cell_type": "markdown",
      "id": "eef128e1",
      "metadata": {
        "id": "eef128e1"
      },
      "source": [
        "To create a feature group we need to give it a name and specify a primary key. It is also good to provide a description of the contents of the feature group and a version number, if it is not defined it will automatically be incremented to `1`."
      ]
    },
    {
      "cell_type": "code",
      "execution_count": null,
      "id": "fd67e4c8",
      "metadata": {
        "id": "fd67e4c8"
      },
      "outputs": [],
      "source": [
        "trans_fg = fs.get_or_create_feature_group(\n",
        "    name=\"transactions_fraud_batch_fg\",\n",
        "    version=1,\n",
        "    description=\"Transaction data\",\n",
        "    primary_key=['cc_num'],\n",
        "    event_time=['datetime']\n",
        ")"
      ]
    },
    {
      "cell_type": "code",
      "execution_count": null,
      "id": "781aa541",
      "metadata": {
        "colab": {
          "base_uri": "https://localhost:8080/",
          "height": 118,
          "referenced_widgets": [
            "9ca8fcf0dd33434d8f72dff34a8fef07",
            "b133148ae6cb47e1b9a9d67a205ca860",
            "bea1b8c316fd43afaa248acb64215f13",
            "9ee47bf0a3754b9194bfe0f57792b077",
            "8315b7bd75a142399b941d8300144503",
            "e98d503788f84a65832a3bd7a24f3aee",
            "ac0831e61c144eaeba8910ed553c4ee9",
            "2370e8b5eb3740c6891ac708bbc2b009",
            "3f18f10867ea4aa7b416e04671041070",
            "1bdced281bae48ecbc074df24d2a0c94",
            "39a66542ad9543149ea967c3ee4b3c17"
          ]
        },
        "id": "781aa541",
        "outputId": "53f80f29-8da7-4d4b-ce77-99180688c74a"
      },
      "outputs": [
        {
          "data": {
            "application/vnd.jupyter.widget-view+json": {
              "model_id": "9ca8fcf0dd33434d8f72dff34a8fef07",
              "version_major": 2,
              "version_minor": 0
            },
            "text/plain": [
              "Uploading Dataframe: 0.00% |          | Rows 0/106020 | Elapsed Time: 00:00 | Remaining Time: ?"
            ]
          },
          "metadata": {},
          "output_type": "display_data"
        },
        {
          "name": "stdout",
          "output_type": "stream",
          "text": [
            "Launching offline feature group backfill job...\n",
            "Backfill Job started successfully, you can follow the progress at \n",
            "https://c.app.hopsworks.ai/p/295/jobs/named/transactions_fraud_batch_fg_1_offline_fg_backfill/executions\n"
          ]
        },
        {
          "data": {
            "text/plain": [
              "(<hsfs.core.job.Job at 0x7f34d0d23990>, None)"
            ]
          },
          "execution_count": 11,
          "metadata": {},
          "output_type": "execute_result"
        }
      ],
      "source": [
        "trans_fg.insert(trans_df)"
      ]
    },
    {
      "cell_type": "code",
      "execution_count": null,
      "id": "ab9709a4",
      "metadata": {
        "id": "ab9709a4"
      },
      "outputs": [],
      "source": [
        "feature_descriptions = [\n",
        "    {\"name\": \"tid\", \"description\": \"Transaction id\"},\n",
        "    {\"name\": \"datetime\", \"description\": \"Transaction time\"},\n",
        "    {\"name\": \"cc_num\", \"description\": \"Number of the credit card performing the transaction\"},\n",
        "    {\"name\": \"category\", \"description\": \"Expense category\"},\n",
        "    {\"name\": \"amount\", \"description\": \"Dollar amount of the transaction\"},\n",
        "    {\"name\": \"latitude\", \"description\": \"Transaction location latitude\"},\n",
        "    {\"name\": \"longitude\", \"description\": \"Transaction location longitude\"},\n",
        "    {\"name\": \"city\", \"description\": \"City in which the transaction was made\"},\n",
        "    {\"name\": \"country\", \"description\": \"Country in which the transaction was made\"},\n",
        "    {\"name\": \"fraud_label\", \"description\": \"Whether the transaction was fraudulent or not\"},\n",
        "    {\"name\": \"age_at_transaction\", \"description\": \"Age of the card holder when the transaction was made\"},\n",
        "    {\"name\": \"days_until_card_expires\", \"description\": \"Card validity days left when the transaction was made\"},\n",
        "    {\"name\": \"loc_delta\", \"description\": \"Haversine distance between this transaction location and the previous transaction location from the same card\"},\n",
        "]\n",
        "\n",
        "for desc in feature_descriptions: \n",
        "    trans_fg.update_feature_description(desc[\"name\"], desc[\"description\"])"
      ]
    },
    {
      "cell_type": "code",
      "execution_count": null,
      "id": "53df57e3",
      "metadata": {
        "id": "53df57e3"
      },
      "outputs": [],
      "source": [
        "window_aggs_fg = fs.get_or_create_feature_group(\n",
        "    name=f\"transactions_{window_len}_aggs_fraud_batch_fg\",\n",
        "    version=1,\n",
        "    description=f\"Aggregate transaction data over {window_len} windows.\",\n",
        "    primary_key=['cc_num'],\n",
        "    event_time=['datetime']\n",
        ")"
      ]
    },
    {
      "cell_type": "code",
      "execution_count": null,
      "id": "eced92d8",
      "metadata": {
        "colab": {
          "base_uri": "https://localhost:8080/",
          "height": 118,
          "referenced_widgets": [
            "093e7e6d1d9f474c9cf7811ff664063e",
            "ec54bb3ca84643e48861e00825105b3e",
            "d793a321f35a4d34a8000ceaee99e059",
            "df1ffe89175b42389061455ef631a383",
            "eea3322b48144e2a98a9a9c2f9cd2ea0",
            "a531d409f97b486ca4692122d65a52d1",
            "7327c32b0362443cb3ba43738bc5bdcf",
            "305ba9b738df436bad32339617fdecfc",
            "9acb5b3ef2c74b6fbe9cbbc655edae43",
            "83ec0ef071434535b09b78c2136d2cd3",
            "efc1fe0247a942ab96b3b9859668f092"
          ]
        },
        "id": "eced92d8",
        "outputId": "b93201dc-b613-4edd-8784-85c58bdf4f9c"
      },
      "outputs": [
        {
          "data": {
            "application/vnd.jupyter.widget-view+json": {
              "model_id": "093e7e6d1d9f474c9cf7811ff664063e",
              "version_major": 2,
              "version_minor": 0
            },
            "text/plain": [
              "Uploading Dataframe: 0.00% |          | Rows 0/106020 | Elapsed Time: 00:00 | Remaining Time: ?"
            ]
          },
          "metadata": {},
          "output_type": "display_data"
        },
        {
          "name": "stdout",
          "output_type": "stream",
          "text": [
            "Launching offline feature group backfill job...\n",
            "Backfill Job started successfully, you can follow the progress at \n",
            "https://c.app.hopsworks.ai/p/295/jobs/named/transactions_4h_aggs_fraud_batch_fg_1_offline_fg_backfill/executions\n"
          ]
        },
        {
          "data": {
            "text/plain": [
              "(<hsfs.core.job.Job at 0x7f34d0c48110>, None)"
            ]
          },
          "execution_count": 14,
          "metadata": {},
          "output_type": "execute_result"
        }
      ],
      "source": [
        "window_aggs_fg.insert(window_aggs_df)"
      ]
    },
    {
      "cell_type": "code",
      "execution_count": null,
      "id": "f95ba5d8",
      "metadata": {
        "id": "f95ba5d8"
      },
      "outputs": [],
      "source": [
        "feature_descriptions = [\n",
        "    {\"name\": \"datetime\", \"description\": \"Transaction time\"},\n",
        "    {\"name\": \"cc_num\", \"description\": \"Number of the credit card performing the transaction\"},\n",
        "    {\"name\": \"loc_delta_mavg\", \"description\": \"Moving average of location difference between consecutive transactions from the same card\"},\n",
        "    {\"name\": \"trans_freq\", \"description\": \"Moving average of transaction frequency from the same card\"},\n",
        "    {\"name\": \"trans_volume_mavg\", \"description\": \"Moving average of transaction volume from the same card\"},\n",
        "    {\"name\": \"trans_volume_mstd\", \"description\": \"Moving standard deviation of transaction volume from the same card\"},\n",
        "]\n",
        "\n",
        "for desc in feature_descriptions: \n",
        "    window_aggs_fg.update_feature_description(desc[\"name\"], desc[\"description\"])"
      ]
    },
    {
      "cell_type": "code",
      "execution_count": null,
      "id": "7df2ded0",
      "metadata": {},
      "outputs": [],
      "source": []
    },
    {
      "cell_type": "code",
      "execution_count": null,
      "id": "fb2b6561",
      "metadata": {},
      "outputs": [],
      "source": []
    },
    {
      "cell_type": "code",
      "execution_count": null,
      "id": "39d08490",
      "metadata": {},
      "outputs": [],
      "source": []
    }
  ],
  "metadata": {
    "colab": {
      "name": "Feature groups with hopsworks",
      "provenance": []
    },
    "kernelspec": {
      "display_name": "Python 3.10.5 64-bit",
      "language": "python",
      "name": "python3"
    },
    "language_info": {
      "codemirror_mode": {
        "name": "ipython",
        "version": 3
      },
      "file_extension": ".py",
      "mimetype": "text/x-python",
      "name": "python",
      "nbconvert_exporter": "python",
      "pygments_lexer": "ipython3",
      "version": "3.10.5"
    },
    "vscode": {
      "interpreter": {
        "hash": "63963b3f4c440940f0b94a3100916033a226cb4f45979123153792d60aa56d6a"
      }
    },
    "widgets": {
      "application/vnd.jupyter.widget-state+json": {
        "093e7e6d1d9f474c9cf7811ff664063e": {
          "model_module": "@jupyter-widgets/controls",
          "model_module_version": "1.5.0",
          "model_name": "HBoxModel",
          "state": {
            "_dom_classes": [],
            "_model_module": "@jupyter-widgets/controls",
            "_model_module_version": "1.5.0",
            "_model_name": "HBoxModel",
            "_view_count": null,
            "_view_module": "@jupyter-widgets/controls",
            "_view_module_version": "1.5.0",
            "_view_name": "HBoxView",
            "box_style": "",
            "children": [
              "IPY_MODEL_ec54bb3ca84643e48861e00825105b3e",
              "IPY_MODEL_d793a321f35a4d34a8000ceaee99e059",
              "IPY_MODEL_df1ffe89175b42389061455ef631a383"
            ],
            "layout": "IPY_MODEL_eea3322b48144e2a98a9a9c2f9cd2ea0"
          }
        },
        "1bdced281bae48ecbc074df24d2a0c94": {
          "model_module": "@jupyter-widgets/base",
          "model_module_version": "1.2.0",
          "model_name": "LayoutModel",
          "state": {
            "_model_module": "@jupyter-widgets/base",
            "_model_module_version": "1.2.0",
            "_model_name": "LayoutModel",
            "_view_count": null,
            "_view_module": "@jupyter-widgets/base",
            "_view_module_version": "1.2.0",
            "_view_name": "LayoutView",
            "align_content": null,
            "align_items": null,
            "align_self": null,
            "border": null,
            "bottom": null,
            "display": null,
            "flex": null,
            "flex_flow": null,
            "grid_area": null,
            "grid_auto_columns": null,
            "grid_auto_flow": null,
            "grid_auto_rows": null,
            "grid_column": null,
            "grid_gap": null,
            "grid_row": null,
            "grid_template_areas": null,
            "grid_template_columns": null,
            "grid_template_rows": null,
            "height": null,
            "justify_content": null,
            "justify_items": null,
            "left": null,
            "margin": null,
            "max_height": null,
            "max_width": null,
            "min_height": null,
            "min_width": null,
            "object_fit": null,
            "object_position": null,
            "order": null,
            "overflow": null,
            "overflow_x": null,
            "overflow_y": null,
            "padding": null,
            "right": null,
            "top": null,
            "visibility": null,
            "width": null
          }
        },
        "2370e8b5eb3740c6891ac708bbc2b009": {
          "model_module": "@jupyter-widgets/base",
          "model_module_version": "1.2.0",
          "model_name": "LayoutModel",
          "state": {
            "_model_module": "@jupyter-widgets/base",
            "_model_module_version": "1.2.0",
            "_model_name": "LayoutModel",
            "_view_count": null,
            "_view_module": "@jupyter-widgets/base",
            "_view_module_version": "1.2.0",
            "_view_name": "LayoutView",
            "align_content": null,
            "align_items": null,
            "align_self": null,
            "border": null,
            "bottom": null,
            "display": null,
            "flex": null,
            "flex_flow": null,
            "grid_area": null,
            "grid_auto_columns": null,
            "grid_auto_flow": null,
            "grid_auto_rows": null,
            "grid_column": null,
            "grid_gap": null,
            "grid_row": null,
            "grid_template_areas": null,
            "grid_template_columns": null,
            "grid_template_rows": null,
            "height": null,
            "justify_content": null,
            "justify_items": null,
            "left": null,
            "margin": null,
            "max_height": null,
            "max_width": null,
            "min_height": null,
            "min_width": null,
            "object_fit": null,
            "object_position": null,
            "order": null,
            "overflow": null,
            "overflow_x": null,
            "overflow_y": null,
            "padding": null,
            "right": null,
            "top": null,
            "visibility": null,
            "width": null
          }
        },
        "305ba9b738df436bad32339617fdecfc": {
          "model_module": "@jupyter-widgets/base",
          "model_module_version": "1.2.0",
          "model_name": "LayoutModel",
          "state": {
            "_model_module": "@jupyter-widgets/base",
            "_model_module_version": "1.2.0",
            "_model_name": "LayoutModel",
            "_view_count": null,
            "_view_module": "@jupyter-widgets/base",
            "_view_module_version": "1.2.0",
            "_view_name": "LayoutView",
            "align_content": null,
            "align_items": null,
            "align_self": null,
            "border": null,
            "bottom": null,
            "display": null,
            "flex": null,
            "flex_flow": null,
            "grid_area": null,
            "grid_auto_columns": null,
            "grid_auto_flow": null,
            "grid_auto_rows": null,
            "grid_column": null,
            "grid_gap": null,
            "grid_row": null,
            "grid_template_areas": null,
            "grid_template_columns": null,
            "grid_template_rows": null,
            "height": null,
            "justify_content": null,
            "justify_items": null,
            "left": null,
            "margin": null,
            "max_height": null,
            "max_width": null,
            "min_height": null,
            "min_width": null,
            "object_fit": null,
            "object_position": null,
            "order": null,
            "overflow": null,
            "overflow_x": null,
            "overflow_y": null,
            "padding": null,
            "right": null,
            "top": null,
            "visibility": null,
            "width": null
          }
        },
        "39a66542ad9543149ea967c3ee4b3c17": {
          "model_module": "@jupyter-widgets/controls",
          "model_module_version": "1.5.0",
          "model_name": "DescriptionStyleModel",
          "state": {
            "_model_module": "@jupyter-widgets/controls",
            "_model_module_version": "1.5.0",
            "_model_name": "DescriptionStyleModel",
            "_view_count": null,
            "_view_module": "@jupyter-widgets/base",
            "_view_module_version": "1.2.0",
            "_view_name": "StyleView",
            "description_width": ""
          }
        },
        "3f18f10867ea4aa7b416e04671041070": {
          "model_module": "@jupyter-widgets/controls",
          "model_module_version": "1.5.0",
          "model_name": "ProgressStyleModel",
          "state": {
            "_model_module": "@jupyter-widgets/controls",
            "_model_module_version": "1.5.0",
            "_model_name": "ProgressStyleModel",
            "_view_count": null,
            "_view_module": "@jupyter-widgets/base",
            "_view_module_version": "1.2.0",
            "_view_name": "StyleView",
            "bar_color": null,
            "description_width": ""
          }
        },
        "7327c32b0362443cb3ba43738bc5bdcf": {
          "model_module": "@jupyter-widgets/controls",
          "model_module_version": "1.5.0",
          "model_name": "DescriptionStyleModel",
          "state": {
            "_model_module": "@jupyter-widgets/controls",
            "_model_module_version": "1.5.0",
            "_model_name": "DescriptionStyleModel",
            "_view_count": null,
            "_view_module": "@jupyter-widgets/base",
            "_view_module_version": "1.2.0",
            "_view_name": "StyleView",
            "description_width": ""
          }
        },
        "8315b7bd75a142399b941d8300144503": {
          "model_module": "@jupyter-widgets/base",
          "model_module_version": "1.2.0",
          "model_name": "LayoutModel",
          "state": {
            "_model_module": "@jupyter-widgets/base",
            "_model_module_version": "1.2.0",
            "_model_name": "LayoutModel",
            "_view_count": null,
            "_view_module": "@jupyter-widgets/base",
            "_view_module_version": "1.2.0",
            "_view_name": "LayoutView",
            "align_content": null,
            "align_items": null,
            "align_self": null,
            "border": null,
            "bottom": null,
            "display": null,
            "flex": null,
            "flex_flow": null,
            "grid_area": null,
            "grid_auto_columns": null,
            "grid_auto_flow": null,
            "grid_auto_rows": null,
            "grid_column": null,
            "grid_gap": null,
            "grid_row": null,
            "grid_template_areas": null,
            "grid_template_columns": null,
            "grid_template_rows": null,
            "height": null,
            "justify_content": null,
            "justify_items": null,
            "left": null,
            "margin": null,
            "max_height": null,
            "max_width": null,
            "min_height": null,
            "min_width": null,
            "object_fit": null,
            "object_position": null,
            "order": null,
            "overflow": null,
            "overflow_x": null,
            "overflow_y": null,
            "padding": null,
            "right": null,
            "top": null,
            "visibility": null,
            "width": null
          }
        },
        "83ec0ef071434535b09b78c2136d2cd3": {
          "model_module": "@jupyter-widgets/base",
          "model_module_version": "1.2.0",
          "model_name": "LayoutModel",
          "state": {
            "_model_module": "@jupyter-widgets/base",
            "_model_module_version": "1.2.0",
            "_model_name": "LayoutModel",
            "_view_count": null,
            "_view_module": "@jupyter-widgets/base",
            "_view_module_version": "1.2.0",
            "_view_name": "LayoutView",
            "align_content": null,
            "align_items": null,
            "align_self": null,
            "border": null,
            "bottom": null,
            "display": null,
            "flex": null,
            "flex_flow": null,
            "grid_area": null,
            "grid_auto_columns": null,
            "grid_auto_flow": null,
            "grid_auto_rows": null,
            "grid_column": null,
            "grid_gap": null,
            "grid_row": null,
            "grid_template_areas": null,
            "grid_template_columns": null,
            "grid_template_rows": null,
            "height": null,
            "justify_content": null,
            "justify_items": null,
            "left": null,
            "margin": null,
            "max_height": null,
            "max_width": null,
            "min_height": null,
            "min_width": null,
            "object_fit": null,
            "object_position": null,
            "order": null,
            "overflow": null,
            "overflow_x": null,
            "overflow_y": null,
            "padding": null,
            "right": null,
            "top": null,
            "visibility": null,
            "width": null
          }
        },
        "9acb5b3ef2c74b6fbe9cbbc655edae43": {
          "model_module": "@jupyter-widgets/controls",
          "model_module_version": "1.5.0",
          "model_name": "ProgressStyleModel",
          "state": {
            "_model_module": "@jupyter-widgets/controls",
            "_model_module_version": "1.5.0",
            "_model_name": "ProgressStyleModel",
            "_view_count": null,
            "_view_module": "@jupyter-widgets/base",
            "_view_module_version": "1.2.0",
            "_view_name": "StyleView",
            "bar_color": null,
            "description_width": ""
          }
        },
        "9ca8fcf0dd33434d8f72dff34a8fef07": {
          "model_module": "@jupyter-widgets/controls",
          "model_module_version": "1.5.0",
          "model_name": "HBoxModel",
          "state": {
            "_dom_classes": [],
            "_model_module": "@jupyter-widgets/controls",
            "_model_module_version": "1.5.0",
            "_model_name": "HBoxModel",
            "_view_count": null,
            "_view_module": "@jupyter-widgets/controls",
            "_view_module_version": "1.5.0",
            "_view_name": "HBoxView",
            "box_style": "",
            "children": [
              "IPY_MODEL_b133148ae6cb47e1b9a9d67a205ca860",
              "IPY_MODEL_bea1b8c316fd43afaa248acb64215f13",
              "IPY_MODEL_9ee47bf0a3754b9194bfe0f57792b077"
            ],
            "layout": "IPY_MODEL_8315b7bd75a142399b941d8300144503"
          }
        },
        "9ee47bf0a3754b9194bfe0f57792b077": {
          "model_module": "@jupyter-widgets/controls",
          "model_module_version": "1.5.0",
          "model_name": "HTMLModel",
          "state": {
            "_dom_classes": [],
            "_model_module": "@jupyter-widgets/controls",
            "_model_module_version": "1.5.0",
            "_model_name": "HTMLModel",
            "_view_count": null,
            "_view_module": "@jupyter-widgets/controls",
            "_view_module_version": "1.5.0",
            "_view_name": "HTMLView",
            "description": "",
            "description_tooltip": null,
            "layout": "IPY_MODEL_1bdced281bae48ecbc074df24d2a0c94",
            "placeholder": "​",
            "style": "IPY_MODEL_39a66542ad9543149ea967c3ee4b3c17",
            "value": " Rows 106020/106020 | Elapsed Time: 00:08 | Remaining Time: 00:00"
          }
        },
        "a531d409f97b486ca4692122d65a52d1": {
          "model_module": "@jupyter-widgets/base",
          "model_module_version": "1.2.0",
          "model_name": "LayoutModel",
          "state": {
            "_model_module": "@jupyter-widgets/base",
            "_model_module_version": "1.2.0",
            "_model_name": "LayoutModel",
            "_view_count": null,
            "_view_module": "@jupyter-widgets/base",
            "_view_module_version": "1.2.0",
            "_view_name": "LayoutView",
            "align_content": null,
            "align_items": null,
            "align_self": null,
            "border": null,
            "bottom": null,
            "display": null,
            "flex": null,
            "flex_flow": null,
            "grid_area": null,
            "grid_auto_columns": null,
            "grid_auto_flow": null,
            "grid_auto_rows": null,
            "grid_column": null,
            "grid_gap": null,
            "grid_row": null,
            "grid_template_areas": null,
            "grid_template_columns": null,
            "grid_template_rows": null,
            "height": null,
            "justify_content": null,
            "justify_items": null,
            "left": null,
            "margin": null,
            "max_height": null,
            "max_width": null,
            "min_height": null,
            "min_width": null,
            "object_fit": null,
            "object_position": null,
            "order": null,
            "overflow": null,
            "overflow_x": null,
            "overflow_y": null,
            "padding": null,
            "right": null,
            "top": null,
            "visibility": null,
            "width": null
          }
        },
        "ac0831e61c144eaeba8910ed553c4ee9": {
          "model_module": "@jupyter-widgets/controls",
          "model_module_version": "1.5.0",
          "model_name": "DescriptionStyleModel",
          "state": {
            "_model_module": "@jupyter-widgets/controls",
            "_model_module_version": "1.5.0",
            "_model_name": "DescriptionStyleModel",
            "_view_count": null,
            "_view_module": "@jupyter-widgets/base",
            "_view_module_version": "1.2.0",
            "_view_name": "StyleView",
            "description_width": ""
          }
        },
        "b133148ae6cb47e1b9a9d67a205ca860": {
          "model_module": "@jupyter-widgets/controls",
          "model_module_version": "1.5.0",
          "model_name": "HTMLModel",
          "state": {
            "_dom_classes": [],
            "_model_module": "@jupyter-widgets/controls",
            "_model_module_version": "1.5.0",
            "_model_name": "HTMLModel",
            "_view_count": null,
            "_view_module": "@jupyter-widgets/controls",
            "_view_module_version": "1.5.0",
            "_view_name": "HTMLView",
            "description": "",
            "description_tooltip": null,
            "layout": "IPY_MODEL_e98d503788f84a65832a3bd7a24f3aee",
            "placeholder": "​",
            "style": "IPY_MODEL_ac0831e61c144eaeba8910ed553c4ee9",
            "value": "Uploading Dataframe: 100.00% "
          }
        },
        "bea1b8c316fd43afaa248acb64215f13": {
          "model_module": "@jupyter-widgets/controls",
          "model_module_version": "1.5.0",
          "model_name": "FloatProgressModel",
          "state": {
            "_dom_classes": [],
            "_model_module": "@jupyter-widgets/controls",
            "_model_module_version": "1.5.0",
            "_model_name": "FloatProgressModel",
            "_view_count": null,
            "_view_module": "@jupyter-widgets/controls",
            "_view_module_version": "1.5.0",
            "_view_name": "ProgressView",
            "bar_style": "success",
            "description": "",
            "description_tooltip": null,
            "layout": "IPY_MODEL_2370e8b5eb3740c6891ac708bbc2b009",
            "max": 106020,
            "min": 0,
            "orientation": "horizontal",
            "style": "IPY_MODEL_3f18f10867ea4aa7b416e04671041070",
            "value": 106020
          }
        },
        "d793a321f35a4d34a8000ceaee99e059": {
          "model_module": "@jupyter-widgets/controls",
          "model_module_version": "1.5.0",
          "model_name": "FloatProgressModel",
          "state": {
            "_dom_classes": [],
            "_model_module": "@jupyter-widgets/controls",
            "_model_module_version": "1.5.0",
            "_model_name": "FloatProgressModel",
            "_view_count": null,
            "_view_module": "@jupyter-widgets/controls",
            "_view_module_version": "1.5.0",
            "_view_name": "ProgressView",
            "bar_style": "success",
            "description": "",
            "description_tooltip": null,
            "layout": "IPY_MODEL_305ba9b738df436bad32339617fdecfc",
            "max": 106020,
            "min": 0,
            "orientation": "horizontal",
            "style": "IPY_MODEL_9acb5b3ef2c74b6fbe9cbbc655edae43",
            "value": 106020
          }
        },
        "df1ffe89175b42389061455ef631a383": {
          "model_module": "@jupyter-widgets/controls",
          "model_module_version": "1.5.0",
          "model_name": "HTMLModel",
          "state": {
            "_dom_classes": [],
            "_model_module": "@jupyter-widgets/controls",
            "_model_module_version": "1.5.0",
            "_model_name": "HTMLModel",
            "_view_count": null,
            "_view_module": "@jupyter-widgets/controls",
            "_view_module_version": "1.5.0",
            "_view_name": "HTMLView",
            "description": "",
            "description_tooltip": null,
            "layout": "IPY_MODEL_83ec0ef071434535b09b78c2136d2cd3",
            "placeholder": "​",
            "style": "IPY_MODEL_efc1fe0247a942ab96b3b9859668f092",
            "value": " Rows 106020/106020 | Elapsed Time: 00:05 | Remaining Time: 00:00"
          }
        },
        "e98d503788f84a65832a3bd7a24f3aee": {
          "model_module": "@jupyter-widgets/base",
          "model_module_version": "1.2.0",
          "model_name": "LayoutModel",
          "state": {
            "_model_module": "@jupyter-widgets/base",
            "_model_module_version": "1.2.0",
            "_model_name": "LayoutModel",
            "_view_count": null,
            "_view_module": "@jupyter-widgets/base",
            "_view_module_version": "1.2.0",
            "_view_name": "LayoutView",
            "align_content": null,
            "align_items": null,
            "align_self": null,
            "border": null,
            "bottom": null,
            "display": null,
            "flex": null,
            "flex_flow": null,
            "grid_area": null,
            "grid_auto_columns": null,
            "grid_auto_flow": null,
            "grid_auto_rows": null,
            "grid_column": null,
            "grid_gap": null,
            "grid_row": null,
            "grid_template_areas": null,
            "grid_template_columns": null,
            "grid_template_rows": null,
            "height": null,
            "justify_content": null,
            "justify_items": null,
            "left": null,
            "margin": null,
            "max_height": null,
            "max_width": null,
            "min_height": null,
            "min_width": null,
            "object_fit": null,
            "object_position": null,
            "order": null,
            "overflow": null,
            "overflow_x": null,
            "overflow_y": null,
            "padding": null,
            "right": null,
            "top": null,
            "visibility": null,
            "width": null
          }
        },
        "ec54bb3ca84643e48861e00825105b3e": {
          "model_module": "@jupyter-widgets/controls",
          "model_module_version": "1.5.0",
          "model_name": "HTMLModel",
          "state": {
            "_dom_classes": [],
            "_model_module": "@jupyter-widgets/controls",
            "_model_module_version": "1.5.0",
            "_model_name": "HTMLModel",
            "_view_count": null,
            "_view_module": "@jupyter-widgets/controls",
            "_view_module_version": "1.5.0",
            "_view_name": "HTMLView",
            "description": "",
            "description_tooltip": null,
            "layout": "IPY_MODEL_a531d409f97b486ca4692122d65a52d1",
            "placeholder": "​",
            "style": "IPY_MODEL_7327c32b0362443cb3ba43738bc5bdcf",
            "value": "Uploading Dataframe: 100.00% "
          }
        },
        "eea3322b48144e2a98a9a9c2f9cd2ea0": {
          "model_module": "@jupyter-widgets/base",
          "model_module_version": "1.2.0",
          "model_name": "LayoutModel",
          "state": {
            "_model_module": "@jupyter-widgets/base",
            "_model_module_version": "1.2.0",
            "_model_name": "LayoutModel",
            "_view_count": null,
            "_view_module": "@jupyter-widgets/base",
            "_view_module_version": "1.2.0",
            "_view_name": "LayoutView",
            "align_content": null,
            "align_items": null,
            "align_self": null,
            "border": null,
            "bottom": null,
            "display": null,
            "flex": null,
            "flex_flow": null,
            "grid_area": null,
            "grid_auto_columns": null,
            "grid_auto_flow": null,
            "grid_auto_rows": null,
            "grid_column": null,
            "grid_gap": null,
            "grid_row": null,
            "grid_template_areas": null,
            "grid_template_columns": null,
            "grid_template_rows": null,
            "height": null,
            "justify_content": null,
            "justify_items": null,
            "left": null,
            "margin": null,
            "max_height": null,
            "max_width": null,
            "min_height": null,
            "min_width": null,
            "object_fit": null,
            "object_position": null,
            "order": null,
            "overflow": null,
            "overflow_x": null,
            "overflow_y": null,
            "padding": null,
            "right": null,
            "top": null,
            "visibility": null,
            "width": null
          }
        },
        "efc1fe0247a942ab96b3b9859668f092": {
          "model_module": "@jupyter-widgets/controls",
          "model_module_version": "1.5.0",
          "model_name": "DescriptionStyleModel",
          "state": {
            "_model_module": "@jupyter-widgets/controls",
            "_model_module_version": "1.5.0",
            "_model_name": "DescriptionStyleModel",
            "_view_count": null,
            "_view_module": "@jupyter-widgets/base",
            "_view_module_version": "1.2.0",
            "_view_name": "StyleView",
            "description_width": ""
          }
        }
      }
    }
  },
  "nbformat": 4,
  "nbformat_minor": 5
}
