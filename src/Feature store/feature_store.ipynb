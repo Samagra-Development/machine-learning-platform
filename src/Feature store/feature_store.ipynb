{
  "cells": [
    {
      "cell_type": "code",
      "execution_count": null,
      "source": [
        "# Install Feast\n",
        "#==5.3.1 \n",
        "#==0.10.5\n",
        "!pip install feast==0.22.0 PyYAML-q"
      ],
      "outputs": [
        {
          "output_type": "stream",
          "name": "stdout",
          "text": [
            "Looking in indexes: https://pypi.org/simple, https://us-python.pkg.dev/colab-wheels/public/simple/\n",
            "Requirement already satisfied: feast==0.22.0 in /usr/local/lib/python3.7/dist-packages (0.22.0)\n",
            "\u001b[31mERROR: Could not find a version that satisfies the requirement PyYAML-q (from versions: none)\u001b[0m\n",
            "\u001b[31mERROR: No matching distribution found for PyYAML-q\u001b[0m\n"
          ]
        }
      ],
      "metadata": {
        "id": "iVrXrdE7abkf",
        "colab": {
          "base_uri": "https://localhost:8080/"
        },
        "outputId": "cc1d7201-09cf-4dc5-d6e8-62de4208ae40"
      }
    },
    {
      "cell_type": "code",
      "source": [
        "!pip freeze | grep pyYAML"
      ],
      "metadata": {
        "id": "DKXgm3natDns"
      },
      "execution_count": null,
      "outputs": []
    },
    {
      "cell_type": "markdown",
      "source": [
        "Create a feature repository at the root of our project. [Feast](https://feast.dev/) will create a configuration file for us and we're going to add an additional [features.py](https://github.com/GokuMohandas/mlops-course/blob/main/features/features.py) file to define our features.\n",
        "\n",
        "> Traditionally, the feature repository would be it's own isolated repository that other services will use to read/write features from."
      ],
      "metadata": {
        "id": "qy2wr-edabkh"
      }
    },
    {
      "cell_type": "code",
      "execution_count": null,
      "source": [
        "%%bash\n",
        "mkdir -p stores/feature\n",
        "mkdir -p data\n",
        "feast init --minimal --template local features\n",
        "cd features\n",
        "touch features.py"
      ],
      "outputs": [
        {
          "output_type": "stream",
          "name": "stdout",
          "text": [
            "Feast is an open source project that collects anonymized error reporting and usage statistics. To opt out or learn more see https://docs.feast.dev/reference/usage\n",
            "The directory \u001b[1m\u001b[32mfeatures\u001b[0m contains an existing feature store repository that may cause a conflict\n",
            "\n"
          ]
        },
        {
          "output_type": "stream",
          "name": "stderr",
          "text": [
            "/usr/local/lib/python3.7/dist-packages/scipy/fft/__init__.py:97: DeprecationWarning: The module numpy.dual is deprecated.  Instead of using dual, use the functions directly from numpy or scipy.\n",
            "  from numpy.dual import register_func\n",
            "/usr/local/lib/python3.7/dist-packages/scipy/sparse/sputils.py:17: DeprecationWarning: `np.typeDict` is a deprecated alias for `np.sctypeDict`.\n",
            "  supported_dtypes = [np.typeDict[x] for x in supported_dtypes]\n",
            "/usr/lib/python3.7/importlib/_bootstrap.py:219: RuntimeWarning: numpy.ufunc size changed, may indicate binary incompatibility. Expected 192 from C header, got 216 from PyObject\n",
            "  return f(*args, **kwds)\n",
            "/usr/lib/python3.7/importlib/_bootstrap.py:219: RuntimeWarning: numpy.ufunc size changed, may indicate binary incompatibility. Expected 192 from C header, got 216 from PyObject\n",
            "  return f(*args, **kwds)\n"
          ]
        }
      ],
      "metadata": {
        "id": "rPvfof-habkh",
        "outputId": "05792176-736a-427f-dd31-545bdb513403",
        "colab": {
          "base_uri": "https://localhost:8080/"
        }
      }
    },
    {
      "cell_type": "markdown",
      "source": [
        "```bash\n",
        "features/\n",
        "├── feature_store.yaml  - configuration\n",
        "└── features.py         - feature definitions\n",
        "```"
      ],
      "metadata": {
        "id": "z_4asVc2abki"
      }
    },
    {
      "cell_type": "code",
      "source": [
        "%%bash\n",
        "FEATURE_STORE_YAML=features/feature_store.yaml\n",
        "if test -f $FEATURE_STORE_YAML; then\n",
        "    rm $FEATURE_STORE_YAML\n",
        "fi\n",
        "touch $FEATURE_STORE_YAML\n",
        "echo \"project: features\" >> $FEATURE_STORE_YAML\n",
        "echo \"registry: ../stores/feature/registry.db\" >> $FEATURE_STORE_YAML\n",
        "echo \"provider: local\" >> $FEATURE_STORE_YAML\n",
        "echo \"online_store:\" >> $FEATURE_STORE_YAML\n",
        "echo \"    path: ../stores/feature/online_store.db\" >> $FEATURE_STORE_YAML\n",
        "cat $FEATURE_STORE_YAML"
      ],
      "metadata": {
        "colab": {
          "base_uri": "https://localhost:8080/"
        },
        "id": "_vN5Xqyft9QQ",
        "outputId": "70ad7d84-1c78-4c18-95f2-83acd45f4d31"
      },
      "execution_count": null,
      "outputs": [
        {
          "output_type": "stream",
          "name": "stdout",
          "text": [
            "project: features\n",
            "registry: ../stores/feature/registry.db\n",
            "provider: local\n",
            "online_store:\n",
            "    path: ../stores/feature/online_store.db\n"
          ]
        }
      ]
    },
    {
      "cell_type": "markdown",
      "source": [
        "# Data ingestion"
      ],
      "metadata": {
        "id": "o54FiYInabkj"
      }
    },
    {
      "cell_type": "markdown",
      "source": [
        "The first step is to establish connections with our data sources (databases, data warehouse, etc.). Feast requires it's data sources to either come from a file ([Parquet](https://databricks.com/glossary/what-is-parquet)), data warehouse ([BigQuery](https://cloud.google.com/bigquery)) or [Kinesis](https://aws.amazon.com/kinesis/)). We'll convert our generated features file from the DataOps pipeline (`features.json`) into a Parquet file, which is a column-major data format that allows fast feature retrieval and caching benefits (contrary to row-major data formats such as CSV where we have to traverse every single row to collect feature values)."
      ],
      "metadata": {
        "id": "Mkw43e-kabkk"
      }
    },
    {
      "cell_type": "code",
      "execution_count": null,
      "source": [
        "import os\n",
        "import json\n",
        "import pandas as pd\n",
        "from pathlib import Path\n",
        "from urllib.request import urlopen"
      ],
      "outputs": [],
      "metadata": {
        "id": "r3crpclyabkk"
      }
    },
    {
      "cell_type": "code",
      "execution_count": null,
      "source": [
        "# Load projects \n",
        "url = \"https://raw.githubusercontent.com/Samagra-Development/machine-learning-platform/main/datasets/projects.json\"\n",
        "projects = json.loads(urlopen(url).read())\n",
        "df = pd.DataFrame(projects)\n",
        "df[\"text\"] = df.title + \" \" + df.description\n",
        "df.drop([\"title\", \"description\"], axis=1, inplace=True)\n",
        "df.head(5)"
      ],
      "outputs": [
        {
          "output_type": "execute_result",
          "data": {
            "text/plain": [
              "   id           created_on                     tag  \\\n",
              "0   6  2020-02-20 06:43:18         computer-vision   \n",
              "1   7  2020-02-20 06:47:21         computer-vision   \n",
              "2   9  2020-02-24 16:24:45          graph-learning   \n",
              "3  15  2020-02-28 23:55:26  reinforcement-learning   \n",
              "4  19  2020-03-03 13:54:31          graph-learning   \n",
              "\n",
              "                                                text  \n",
              "0  Comparison between YOLO and RCNN on real world...  \n",
              "1  Show, Infer & Tell: Contextual Inference for C...  \n",
              "2  Awesome Graph Classification A collection of i...  \n",
              "3  Awesome Monte Carlo Tree Search A curated list...  \n",
              "4  Diffusion to Vector Reference implementation o...  "
            ],
            "text/html": [
              "\n",
              "  <div id=\"df-6f3b8825-06bc-49e5-8a6d-c0c9b7cf1751\">\n",
              "    <div class=\"colab-df-container\">\n",
              "      <div>\n",
              "<style scoped>\n",
              "    .dataframe tbody tr th:only-of-type {\n",
              "        vertical-align: middle;\n",
              "    }\n",
              "\n",
              "    .dataframe tbody tr th {\n",
              "        vertical-align: top;\n",
              "    }\n",
              "\n",
              "    .dataframe thead th {\n",
              "        text-align: right;\n",
              "    }\n",
              "</style>\n",
              "<table border=\"1\" class=\"dataframe\">\n",
              "  <thead>\n",
              "    <tr style=\"text-align: right;\">\n",
              "      <th></th>\n",
              "      <th>id</th>\n",
              "      <th>created_on</th>\n",
              "      <th>tag</th>\n",
              "      <th>text</th>\n",
              "    </tr>\n",
              "  </thead>\n",
              "  <tbody>\n",
              "    <tr>\n",
              "      <th>0</th>\n",
              "      <td>6</td>\n",
              "      <td>2020-02-20 06:43:18</td>\n",
              "      <td>computer-vision</td>\n",
              "      <td>Comparison between YOLO and RCNN on real world...</td>\n",
              "    </tr>\n",
              "    <tr>\n",
              "      <th>1</th>\n",
              "      <td>7</td>\n",
              "      <td>2020-02-20 06:47:21</td>\n",
              "      <td>computer-vision</td>\n",
              "      <td>Show, Infer &amp; Tell: Contextual Inference for C...</td>\n",
              "    </tr>\n",
              "    <tr>\n",
              "      <th>2</th>\n",
              "      <td>9</td>\n",
              "      <td>2020-02-24 16:24:45</td>\n",
              "      <td>graph-learning</td>\n",
              "      <td>Awesome Graph Classification A collection of i...</td>\n",
              "    </tr>\n",
              "    <tr>\n",
              "      <th>3</th>\n",
              "      <td>15</td>\n",
              "      <td>2020-02-28 23:55:26</td>\n",
              "      <td>reinforcement-learning</td>\n",
              "      <td>Awesome Monte Carlo Tree Search A curated list...</td>\n",
              "    </tr>\n",
              "    <tr>\n",
              "      <th>4</th>\n",
              "      <td>19</td>\n",
              "      <td>2020-03-03 13:54:31</td>\n",
              "      <td>graph-learning</td>\n",
              "      <td>Diffusion to Vector Reference implementation o...</td>\n",
              "    </tr>\n",
              "  </tbody>\n",
              "</table>\n",
              "</div>\n",
              "      <button class=\"colab-df-convert\" onclick=\"convertToInteractive('df-6f3b8825-06bc-49e5-8a6d-c0c9b7cf1751')\"\n",
              "              title=\"Convert this dataframe to an interactive table.\"\n",
              "              style=\"display:none;\">\n",
              "        \n",
              "  <svg xmlns=\"http://www.w3.org/2000/svg\" height=\"24px\"viewBox=\"0 0 24 24\"\n",
              "       width=\"24px\">\n",
              "    <path d=\"M0 0h24v24H0V0z\" fill=\"none\"/>\n",
              "    <path d=\"M18.56 5.44l.94 2.06.94-2.06 2.06-.94-2.06-.94-.94-2.06-.94 2.06-2.06.94zm-11 1L8.5 8.5l.94-2.06 2.06-.94-2.06-.94L8.5 2.5l-.94 2.06-2.06.94zm10 10l.94 2.06.94-2.06 2.06-.94-2.06-.94-.94-2.06-.94 2.06-2.06.94z\"/><path d=\"M17.41 7.96l-1.37-1.37c-.4-.4-.92-.59-1.43-.59-.52 0-1.04.2-1.43.59L10.3 9.45l-7.72 7.72c-.78.78-.78 2.05 0 2.83L4 21.41c.39.39.9.59 1.41.59.51 0 1.02-.2 1.41-.59l7.78-7.78 2.81-2.81c.8-.78.8-2.07 0-2.86zM5.41 20L4 18.59l7.72-7.72 1.47 1.35L5.41 20z\"/>\n",
              "  </svg>\n",
              "      </button>\n",
              "      \n",
              "  <style>\n",
              "    .colab-df-container {\n",
              "      display:flex;\n",
              "      flex-wrap:wrap;\n",
              "      gap: 12px;\n",
              "    }\n",
              "\n",
              "    .colab-df-convert {\n",
              "      background-color: #E8F0FE;\n",
              "      border: none;\n",
              "      border-radius: 50%;\n",
              "      cursor: pointer;\n",
              "      display: none;\n",
              "      fill: #1967D2;\n",
              "      height: 32px;\n",
              "      padding: 0 0 0 0;\n",
              "      width: 32px;\n",
              "    }\n",
              "\n",
              "    .colab-df-convert:hover {\n",
              "      background-color: #E2EBFA;\n",
              "      box-shadow: 0px 1px 2px rgba(60, 64, 67, 0.3), 0px 1px 3px 1px rgba(60, 64, 67, 0.15);\n",
              "      fill: #174EA6;\n",
              "    }\n",
              "\n",
              "    [theme=dark] .colab-df-convert {\n",
              "      background-color: #3B4455;\n",
              "      fill: #D2E3FC;\n",
              "    }\n",
              "\n",
              "    [theme=dark] .colab-df-convert:hover {\n",
              "      background-color: #434B5C;\n",
              "      box-shadow: 0px 1px 3px 1px rgba(0, 0, 0, 0.15);\n",
              "      filter: drop-shadow(0px 1px 2px rgba(0, 0, 0, 0.3));\n",
              "      fill: #FFFFFF;\n",
              "    }\n",
              "  </style>\n",
              "\n",
              "      <script>\n",
              "        const buttonEl =\n",
              "          document.querySelector('#df-6f3b8825-06bc-49e5-8a6d-c0c9b7cf1751 button.colab-df-convert');\n",
              "        buttonEl.style.display =\n",
              "          google.colab.kernel.accessAllowed ? 'block' : 'none';\n",
              "\n",
              "        async function convertToInteractive(key) {\n",
              "          const element = document.querySelector('#df-6f3b8825-06bc-49e5-8a6d-c0c9b7cf1751');\n",
              "          const dataTable =\n",
              "            await google.colab.kernel.invokeFunction('convertToInteractive',\n",
              "                                                     [key], {});\n",
              "          if (!dataTable) return;\n",
              "\n",
              "          const docLinkHtml = 'Like what you see? Visit the ' +\n",
              "            '<a target=\"_blank\" href=https://colab.research.google.com/notebooks/data_table.ipynb>data table notebook</a>'\n",
              "            + ' to learn more about interactive tables.';\n",
              "          element.innerHTML = '';\n",
              "          dataTable['output_type'] = 'display_data';\n",
              "          await google.colab.output.renderOutput(dataTable, element);\n",
              "          const docLink = document.createElement('div');\n",
              "          docLink.innerHTML = docLinkHtml;\n",
              "          element.appendChild(docLink);\n",
              "        }\n",
              "      </script>\n",
              "    </div>\n",
              "  </div>\n",
              "  "
            ]
          },
          "metadata": {},
          "execution_count": 76
        }
      ],
      "metadata": {
        "id": "WABSPCTxabkl",
        "outputId": "1d210b10-dad0-455d-baeb-07075472e0b1",
        "colab": {
          "base_uri": "https://localhost:8080/",
          "height": 206
        }
      }
    },
    {
      "cell_type": "code",
      "execution_count": null,
      "source": [
        "# Format timestamp\n",
        "df.created_on = pd.to_datetime(df.created_on)"
      ],
      "outputs": [],
      "metadata": {
        "id": "RoEuJX5Labkl"
      }
    },
    {
      "cell_type": "code",
      "execution_count": null,
      "source": [
        "# Convert to parquet\n",
        "DATA_DIR = Path(os.getcwd(), \"data\")\n",
        "df.to_parquet(\n",
        "    Path(DATA_DIR, \"features.parquet\"),\n",
        "    compression=None,\n",
        "    allow_truncated_timestamps=True,\n",
        ")"
      ],
      "outputs": [],
      "metadata": {
        "id": "c5LBKipwabkl"
      }
    },
    {
      "cell_type": "markdown",
      "source": [
        "# Feature definitions"
      ],
      "metadata": {
        "id": "NCbcHUkaabkm"
      }
    },
    {
      "cell_type": "markdown",
      "source": [
        "Now that we have our data source prepared, we can define our features for the feature store."
      ],
      "metadata": {
        "id": "SEu4rt7Pabkm"
      }
    },
    {
      "cell_type": "code",
      "execution_count": null,
      "source": [
        "from datetime import datetime\n",
        "from pathlib import Path\n",
        "from feast import Entity, Feature, FeatureView, ValueType\n",
        "from feast.data_source import FileSource\n",
        "from google.protobuf.duration_pb2 import Duration"
      ],
      "outputs": [],
      "metadata": {
        "id": "vsKSLOI9abkm"
      }
    },
    {
      "cell_type": "markdown",
      "source": [
        "The first step is to define the location of the features (FileSource in our case) and the timestamp column for each data point."
      ],
      "metadata": {
        "id": "LSucFkEhabkn"
      }
    },
    {
      "cell_type": "code",
      "execution_count": null,
      "source": [
        "# Read data\n",
        "START_TIME = \"2020-02-17\"\n",
        "project_details = FileSource(\n",
        "    path=str(Path(DATA_DIR, \"features.parquet\")),\n",
        "    event_timestamp_column=\"created_on\",\n",
        ")"
      ],
      "outputs": [],
      "metadata": {
        "id": "LFUpb2cKabkn"
      }
    },
    {
      "cell_type": "markdown",
      "source": [
        "Next, we need to define the main entity that each data point pertains to. In our case, each project has a unique ID with features such as text and tags."
      ],
      "metadata": {
        "id": "uy9uRFFlabkn"
      }
    },
    {
      "cell_type": "code",
      "execution_count": null,
      "source": [
        "# Define an entity\n",
        "project = Entity(\n",
        "    name=\"id\",\n",
        "    value_type=ValueType.INT64,\n",
        "    description=\"project id\",\n",
        ")"
      ],
      "outputs": [],
      "metadata": {
        "id": "2rofYTGhabkn"
      }
    },
    {
      "cell_type": "markdown",
      "source": [
        "Finally, we're ready to create a [FeatureView](https://docs.feast.dev/concepts/feature-views) that loads specific features (`features`), of various [value types](https://api.docs.feast.dev/python/feast.html?highlight=valuetype#feast.value_type.ValueType), from a data source (`input`) for a specific period of time (`ttl`)."
      ],
      "metadata": {
        "id": "6vODPOU1abko"
      }
    },
    {
      "cell_type": "code",
      "execution_count": null,
      "source": [
        "# Define a Feature View for each project\n",
        "project_details_view = FeatureView(\n",
        "    name=\"project_details\",\n",
        "    entities=[\"id\"],\n",
        "    ttl=Duration(\n",
        "        seconds=(datetime.today() - datetime.strptime(START_TIME, \"%Y-%m-%d\")).days * 24 * 60 * 60\n",
        "    ),\n",
        "    features=[\n",
        "        Feature(name=\"text\", dtype=ValueType.STRING),\n",
        "        Feature(name=\"tag\", dtype=ValueType.STRING),\n",
        "    ],\n",
        "    online=True,\n",
        "    input=project_details,\n",
        "    tags={},\n",
        ")"
      ],
      "outputs": [],
      "metadata": {
        "id": "r8LGZh8Gabko"
      }
    },
    {
      "cell_type": "markdown",
      "source": [
        "We need to place all of this code into our `features.py` file we created earlier."
      ],
      "metadata": {
        "id": "p9gqkI4D1Uqw"
      }
    },
    {
      "cell_type": "code",
      "source": [
        "%%bash\n",
        "FEATURES_PY=features/features.py\n",
        "if test -f $FEATURES_PY; then\n",
        "    rm $FEATURES_PY\n",
        "fi\n",
        "touch $FEATURES_PY\n",
        "echo -e 'from datetime import datetime\n",
        "from pathlib import Path\n",
        "\n",
        "from feast import Entity, Feature, FeatureView, ValueType\n",
        "from feast.data_source import FileSource\n",
        "from google.protobuf.duration_pb2 import Duration\n",
        "\n",
        "\n",
        "# Read data\n",
        "START_TIME = \"2020-02-17\"\n",
        "project_details = FileSource(\n",
        "    path=\"/content/data/features.parquet\",\n",
        "    event_timestamp_column=\"created_on\",\n",
        ")\n",
        "\n",
        "# Define an entity for the project\n",
        "project = Entity(\n",
        "    name=\"id\",\n",
        "    value_type=ValueType.INT64,\n",
        "    description=\"project id\",\n",
        ")\n",
        "\n",
        "# Define a Feature View for each project\n",
        "# Can be used for fetching historical data and online serving\n",
        "project_details_view = FeatureView(\n",
        "    name=\"project_details\",\n",
        "    entities=[\"id\"],\n",
        "    ttl=Duration(\n",
        "        seconds=(datetime.today() - datetime.strptime(START_TIME, \"%Y-%m-%d\")).days * 24 * 60 * 60\n",
        "    ),\n",
        "    features=[\n",
        "        Feature(name=\"text\", dtype=ValueType.STRING),\n",
        "        Feature(name=\"tag\", dtype=ValueType.STRING),\n",
        "    ],\n",
        "    online=True,\n",
        "    input=project_details,\n",
        "    tags={},\n",
        ")' >> $FEATURES_PY"
      ],
      "metadata": {
        "id": "TuSh6rbo1whJ"
      },
      "execution_count": null,
      "outputs": []
    },
    {
      "cell_type": "markdown",
      "source": [
        "Once we've defined our feature views, we can `apply` it to push a version controlled definition of our features to the registry for fast access. It will also configure our registry and online stores that we've defined in our `feature_store.yaml`."
      ],
      "metadata": {
        "id": "yoMjvONzabkp"
      }
    },
    {
      "cell_type": "code",
      "execution_count": null,
      "source": [
        "%%bash\n",
        "cd features\n",
        "feast apply"
      ],
      "outputs": [
        {
          "output_type": "stream",
          "name": "stderr",
          "text": [
            "/usr/local/lib/python3.7/dist-packages/scipy/fft/__init__.py:97: DeprecationWarning: The module numpy.dual is deprecated.  Instead of using dual, use the functions directly from numpy or scipy.\n",
            "  from numpy.dual import register_func\n",
            "/usr/local/lib/python3.7/dist-packages/scipy/sparse/sputils.py:17: DeprecationWarning: `np.typeDict` is a deprecated alias for `np.sctypeDict`.\n",
            "  supported_dtypes = [np.typeDict[x] for x in supported_dtypes]\n",
            "/usr/lib/python3.7/importlib/_bootstrap.py:219: RuntimeWarning: numpy.ufunc size changed, may indicate binary incompatibility. Expected 192 from C header, got 216 from PyObject\n",
            "  return f(*args, **kwds)\n",
            "/usr/lib/python3.7/importlib/_bootstrap.py:219: RuntimeWarning: numpy.ufunc size changed, may indicate binary incompatibility. Expected 192 from C header, got 216 from PyObject\n",
            "  return f(*args, **kwds)\n",
            "Traceback (most recent call last):\n",
            "  File \"/usr/local/bin/feast\", line 8, in <module>\n",
            "    sys.exit(cli())\n",
            "  File \"/usr/local/lib/python3.7/dist-packages/click/core.py\", line 829, in __call__\n",
            "    return self.main(*args, **kwargs)\n",
            "  File \"/usr/local/lib/python3.7/dist-packages/click/core.py\", line 782, in main\n",
            "    rv = self.invoke(ctx)\n",
            "  File \"/usr/local/lib/python3.7/dist-packages/click/core.py\", line 1259, in invoke\n",
            "    return _process_result(sub_ctx.command.invoke(sub_ctx))\n",
            "  File \"/usr/local/lib/python3.7/dist-packages/click/core.py\", line 1066, in invoke\n",
            "    return ctx.invoke(self.callback, **ctx.params)\n",
            "  File \"/usr/local/lib/python3.7/dist-packages/click/core.py\", line 610, in invoke\n",
            "    return callback(*args, **kwargs)\n",
            "  File \"/usr/local/lib/python3.7/dist-packages/click/decorators.py\", line 21, in new_func\n",
            "    return f(get_current_context(), *args, **kwargs)\n",
            "  File \"/usr/local/lib/python3.7/dist-packages/feast/cli.py\", line 492, in apply_total_command\n",
            "    apply_total(repo_config, repo, skip_source_validation)\n",
            "  File \"/usr/local/lib/python3.7/dist-packages/feast/usage.py\", line 280, in wrapper\n",
            "    raise exc.with_traceback(traceback)\n",
            "  File \"/usr/local/lib/python3.7/dist-packages/feast/usage.py\", line 269, in wrapper\n",
            "    return func(*args, **kwargs)\n",
            "  File \"/usr/local/lib/python3.7/dist-packages/feast/repo_operations.py\", line 304, in apply_total\n",
            "    project, registry, repo, store = _prepare_registry_and_repo(repo_config, repo_path)\n",
            "  File \"/usr/local/lib/python3.7/dist-packages/feast/repo_operations.py\", line 202, in _prepare_registry_and_repo\n",
            "    repo = parse_repo(repo_path)\n",
            "  File \"/usr/local/lib/python3.7/dist-packages/feast/repo_operations.py\", line 119, in parse_repo\n",
            "    module = importlib.import_module(module_path)\n",
            "  File \"/usr/lib/python3.7/importlib/__init__.py\", line 127, in import_module\n",
            "    return _bootstrap._gcd_import(name[level:], package, level)\n",
            "  File \"<frozen importlib._bootstrap>\", line 1006, in _gcd_import\n",
            "  File \"<frozen importlib._bootstrap>\", line 983, in _find_and_load\n",
            "  File \"<frozen importlib._bootstrap>\", line 967, in _find_and_load_unlocked\n",
            "  File \"<frozen importlib._bootstrap>\", line 677, in _load_unlocked\n",
            "  File \"<frozen importlib._bootstrap_external>\", line 728, in exec_module\n",
            "  File \"<frozen importlib._bootstrap>\", line 219, in _call_with_frames_removed\n",
            "  File \"/content/features/features.py\", line 5, in <module>\n",
            "    from feast.data_source import FileSource\n",
            "ImportError: cannot import name 'FileSource' from 'feast.data_source' (/usr/local/lib/python3.7/dist-packages/feast/data_source.py)\n"
          ]
        }
      ],
      "metadata": {
        "id": "bMGjTvsBabkp",
        "outputId": "cf92c1cd-0392-4b81-c8d0-f2857a8d70b2",
        "colab": {
          "base_uri": "https://localhost:8080/"
        }
      }
    },
    {
      "cell_type": "markdown",
      "source": [
        "# Historical features"
      ],
      "metadata": {
        "id": "LVim9_Qtabkp"
      }
    },
    {
      "cell_type": "markdown",
      "source": [
        "Once we've registered our feature definition, along with the data source, entity definition, etc., we can use it to fetch historical features. "
      ],
      "metadata": {
        "id": "c740ja3Nabkp"
      }
    },
    {
      "cell_type": "code",
      "execution_count": null,
      "source": [
        "import pandas as pd\n",
        "from feast import FeatureStore"
      ],
      "outputs": [],
      "metadata": {
        "id": "F0ZmpvYkabkp"
      }
    },
    {
      "cell_type": "code",
      "execution_count": null,
      "source": [
        "# Identify entities\n",
        "project_ids = df.id[0:3].to_list()\n",
        "now = datetime.now()\n",
        "timestamps = [datetime(now.year, now.month, now.day)]*len(project_ids)\n",
        "entity_df = pd.DataFrame.from_dict({\"id\": project_ids, \"event_timestamp\": timestamps})\n",
        "entity_df.head()"
      ],
      "outputs": [
        {
          "output_type": "execute_result",
          "data": {
            "text/plain": [
              "   id event_timestamp\n",
              "0   6      2022-07-08\n",
              "1   7      2022-07-08\n",
              "2   9      2022-07-08"
            ],
            "text/html": [
              "\n",
              "  <div id=\"df-42670980-8fff-464c-84ed-725ab9d73ea7\">\n",
              "    <div class=\"colab-df-container\">\n",
              "      <div>\n",
              "<style scoped>\n",
              "    .dataframe tbody tr th:only-of-type {\n",
              "        vertical-align: middle;\n",
              "    }\n",
              "\n",
              "    .dataframe tbody tr th {\n",
              "        vertical-align: top;\n",
              "    }\n",
              "\n",
              "    .dataframe thead th {\n",
              "        text-align: right;\n",
              "    }\n",
              "</style>\n",
              "<table border=\"1\" class=\"dataframe\">\n",
              "  <thead>\n",
              "    <tr style=\"text-align: right;\">\n",
              "      <th></th>\n",
              "      <th>id</th>\n",
              "      <th>event_timestamp</th>\n",
              "    </tr>\n",
              "  </thead>\n",
              "  <tbody>\n",
              "    <tr>\n",
              "      <th>0</th>\n",
              "      <td>6</td>\n",
              "      <td>2022-07-08</td>\n",
              "    </tr>\n",
              "    <tr>\n",
              "      <th>1</th>\n",
              "      <td>7</td>\n",
              "      <td>2022-07-08</td>\n",
              "    </tr>\n",
              "    <tr>\n",
              "      <th>2</th>\n",
              "      <td>9</td>\n",
              "      <td>2022-07-08</td>\n",
              "    </tr>\n",
              "  </tbody>\n",
              "</table>\n",
              "</div>\n",
              "      <button class=\"colab-df-convert\" onclick=\"convertToInteractive('df-42670980-8fff-464c-84ed-725ab9d73ea7')\"\n",
              "              title=\"Convert this dataframe to an interactive table.\"\n",
              "              style=\"display:none;\">\n",
              "        \n",
              "  <svg xmlns=\"http://www.w3.org/2000/svg\" height=\"24px\"viewBox=\"0 0 24 24\"\n",
              "       width=\"24px\">\n",
              "    <path d=\"M0 0h24v24H0V0z\" fill=\"none\"/>\n",
              "    <path d=\"M18.56 5.44l.94 2.06.94-2.06 2.06-.94-2.06-.94-.94-2.06-.94 2.06-2.06.94zm-11 1L8.5 8.5l.94-2.06 2.06-.94-2.06-.94L8.5 2.5l-.94 2.06-2.06.94zm10 10l.94 2.06.94-2.06 2.06-.94-2.06-.94-.94-2.06-.94 2.06-2.06.94z\"/><path d=\"M17.41 7.96l-1.37-1.37c-.4-.4-.92-.59-1.43-.59-.52 0-1.04.2-1.43.59L10.3 9.45l-7.72 7.72c-.78.78-.78 2.05 0 2.83L4 21.41c.39.39.9.59 1.41.59.51 0 1.02-.2 1.41-.59l7.78-7.78 2.81-2.81c.8-.78.8-2.07 0-2.86zM5.41 20L4 18.59l7.72-7.72 1.47 1.35L5.41 20z\"/>\n",
              "  </svg>\n",
              "      </button>\n",
              "      \n",
              "  <style>\n",
              "    .colab-df-container {\n",
              "      display:flex;\n",
              "      flex-wrap:wrap;\n",
              "      gap: 12px;\n",
              "    }\n",
              "\n",
              "    .colab-df-convert {\n",
              "      background-color: #E8F0FE;\n",
              "      border: none;\n",
              "      border-radius: 50%;\n",
              "      cursor: pointer;\n",
              "      display: none;\n",
              "      fill: #1967D2;\n",
              "      height: 32px;\n",
              "      padding: 0 0 0 0;\n",
              "      width: 32px;\n",
              "    }\n",
              "\n",
              "    .colab-df-convert:hover {\n",
              "      background-color: #E2EBFA;\n",
              "      box-shadow: 0px 1px 2px rgba(60, 64, 67, 0.3), 0px 1px 3px 1px rgba(60, 64, 67, 0.15);\n",
              "      fill: #174EA6;\n",
              "    }\n",
              "\n",
              "    [theme=dark] .colab-df-convert {\n",
              "      background-color: #3B4455;\n",
              "      fill: #D2E3FC;\n",
              "    }\n",
              "\n",
              "    [theme=dark] .colab-df-convert:hover {\n",
              "      background-color: #434B5C;\n",
              "      box-shadow: 0px 1px 3px 1px rgba(0, 0, 0, 0.15);\n",
              "      filter: drop-shadow(0px 1px 2px rgba(0, 0, 0, 0.3));\n",
              "      fill: #FFFFFF;\n",
              "    }\n",
              "  </style>\n",
              "\n",
              "      <script>\n",
              "        const buttonEl =\n",
              "          document.querySelector('#df-42670980-8fff-464c-84ed-725ab9d73ea7 button.colab-df-convert');\n",
              "        buttonEl.style.display =\n",
              "          google.colab.kernel.accessAllowed ? 'block' : 'none';\n",
              "\n",
              "        async function convertToInteractive(key) {\n",
              "          const element = document.querySelector('#df-42670980-8fff-464c-84ed-725ab9d73ea7');\n",
              "          const dataTable =\n",
              "            await google.colab.kernel.invokeFunction('convertToInteractive',\n",
              "                                                     [key], {});\n",
              "          if (!dataTable) return;\n",
              "\n",
              "          const docLinkHtml = 'Like what you see? Visit the ' +\n",
              "            '<a target=\"_blank\" href=https://colab.research.google.com/notebooks/data_table.ipynb>data table notebook</a>'\n",
              "            + ' to learn more about interactive tables.';\n",
              "          element.innerHTML = '';\n",
              "          dataTable['output_type'] = 'display_data';\n",
              "          await google.colab.output.renderOutput(dataTable, element);\n",
              "          const docLink = document.createElement('div');\n",
              "          docLink.innerHTML = docLinkHtml;\n",
              "          element.appendChild(docLink);\n",
              "        }\n",
              "      </script>\n",
              "    </div>\n",
              "  </div>\n",
              "  "
            ]
          },
          "metadata": {},
          "execution_count": 86
        }
      ],
      "metadata": {
        "id": "TKipeeLYabkq",
        "outputId": "7294e918-cad9-4bc2-d794-9bf6cd8996b9",
        "colab": {
          "base_uri": "https://localhost:8080/",
          "height": 143
        }
      }
    },
    {
      "cell_type": "code",
      "execution_count": null,
      "source": [
        "# Get historical features\n",
        "store = FeatureStore(repo_path=\"features\")\n",
        "training_df = store.get_historical_features(\n",
        "    entity_df=entity_df,\n",
        "    feature_refs=[\"project_details:text\", \"project_details:tag\"],\n",
        ").to_df()\n",
        "training_df.head()"
      ],
      "outputs": [
        {
          "output_type": "execute_result",
          "data": {
            "text/plain": [
              "            event_timestamp  id  \\\n",
              "0 2022-07-08 00:00:00+00:00   6   \n",
              "1 2022-07-08 00:00:00+00:00   7   \n",
              "2 2022-07-08 00:00:00+00:00   9   \n",
              "\n",
              "                               project_details__text project_details__tag  \n",
              "0  Comparison between YOLO and RCNN on real world...      computer-vision  \n",
              "1  Show, Infer & Tell: Contextual Inference for C...      computer-vision  \n",
              "2  Awesome Graph Classification A collection of i...       graph-learning  "
            ],
            "text/html": [
              "\n",
              "  <div id=\"df-96757294-4193-4370-b117-8be7be4eb21d\">\n",
              "    <div class=\"colab-df-container\">\n",
              "      <div>\n",
              "<style scoped>\n",
              "    .dataframe tbody tr th:only-of-type {\n",
              "        vertical-align: middle;\n",
              "    }\n",
              "\n",
              "    .dataframe tbody tr th {\n",
              "        vertical-align: top;\n",
              "    }\n",
              "\n",
              "    .dataframe thead th {\n",
              "        text-align: right;\n",
              "    }\n",
              "</style>\n",
              "<table border=\"1\" class=\"dataframe\">\n",
              "  <thead>\n",
              "    <tr style=\"text-align: right;\">\n",
              "      <th></th>\n",
              "      <th>event_timestamp</th>\n",
              "      <th>id</th>\n",
              "      <th>project_details__text</th>\n",
              "      <th>project_details__tag</th>\n",
              "    </tr>\n",
              "  </thead>\n",
              "  <tbody>\n",
              "    <tr>\n",
              "      <th>0</th>\n",
              "      <td>2022-07-08 00:00:00+00:00</td>\n",
              "      <td>6</td>\n",
              "      <td>Comparison between YOLO and RCNN on real world...</td>\n",
              "      <td>computer-vision</td>\n",
              "    </tr>\n",
              "    <tr>\n",
              "      <th>1</th>\n",
              "      <td>2022-07-08 00:00:00+00:00</td>\n",
              "      <td>7</td>\n",
              "      <td>Show, Infer &amp; Tell: Contextual Inference for C...</td>\n",
              "      <td>computer-vision</td>\n",
              "    </tr>\n",
              "    <tr>\n",
              "      <th>2</th>\n",
              "      <td>2022-07-08 00:00:00+00:00</td>\n",
              "      <td>9</td>\n",
              "      <td>Awesome Graph Classification A collection of i...</td>\n",
              "      <td>graph-learning</td>\n",
              "    </tr>\n",
              "  </tbody>\n",
              "</table>\n",
              "</div>\n",
              "      <button class=\"colab-df-convert\" onclick=\"convertToInteractive('df-96757294-4193-4370-b117-8be7be4eb21d')\"\n",
              "              title=\"Convert this dataframe to an interactive table.\"\n",
              "              style=\"display:none;\">\n",
              "        \n",
              "  <svg xmlns=\"http://www.w3.org/2000/svg\" height=\"24px\"viewBox=\"0 0 24 24\"\n",
              "       width=\"24px\">\n",
              "    <path d=\"M0 0h24v24H0V0z\" fill=\"none\"/>\n",
              "    <path d=\"M18.56 5.44l.94 2.06.94-2.06 2.06-.94-2.06-.94-.94-2.06-.94 2.06-2.06.94zm-11 1L8.5 8.5l.94-2.06 2.06-.94-2.06-.94L8.5 2.5l-.94 2.06-2.06.94zm10 10l.94 2.06.94-2.06 2.06-.94-2.06-.94-.94-2.06-.94 2.06-2.06.94z\"/><path d=\"M17.41 7.96l-1.37-1.37c-.4-.4-.92-.59-1.43-.59-.52 0-1.04.2-1.43.59L10.3 9.45l-7.72 7.72c-.78.78-.78 2.05 0 2.83L4 21.41c.39.39.9.59 1.41.59.51 0 1.02-.2 1.41-.59l7.78-7.78 2.81-2.81c.8-.78.8-2.07 0-2.86zM5.41 20L4 18.59l7.72-7.72 1.47 1.35L5.41 20z\"/>\n",
              "  </svg>\n",
              "      </button>\n",
              "      \n",
              "  <style>\n",
              "    .colab-df-container {\n",
              "      display:flex;\n",
              "      flex-wrap:wrap;\n",
              "      gap: 12px;\n",
              "    }\n",
              "\n",
              "    .colab-df-convert {\n",
              "      background-color: #E8F0FE;\n",
              "      border: none;\n",
              "      border-radius: 50%;\n",
              "      cursor: pointer;\n",
              "      display: none;\n",
              "      fill: #1967D2;\n",
              "      height: 32px;\n",
              "      padding: 0 0 0 0;\n",
              "      width: 32px;\n",
              "    }\n",
              "\n",
              "    .colab-df-convert:hover {\n",
              "      background-color: #E2EBFA;\n",
              "      box-shadow: 0px 1px 2px rgba(60, 64, 67, 0.3), 0px 1px 3px 1px rgba(60, 64, 67, 0.15);\n",
              "      fill: #174EA6;\n",
              "    }\n",
              "\n",
              "    [theme=dark] .colab-df-convert {\n",
              "      background-color: #3B4455;\n",
              "      fill: #D2E3FC;\n",
              "    }\n",
              "\n",
              "    [theme=dark] .colab-df-convert:hover {\n",
              "      background-color: #434B5C;\n",
              "      box-shadow: 0px 1px 3px 1px rgba(0, 0, 0, 0.15);\n",
              "      filter: drop-shadow(0px 1px 2px rgba(0, 0, 0, 0.3));\n",
              "      fill: #FFFFFF;\n",
              "    }\n",
              "  </style>\n",
              "\n",
              "      <script>\n",
              "        const buttonEl =\n",
              "          document.querySelector('#df-96757294-4193-4370-b117-8be7be4eb21d button.colab-df-convert');\n",
              "        buttonEl.style.display =\n",
              "          google.colab.kernel.accessAllowed ? 'block' : 'none';\n",
              "\n",
              "        async function convertToInteractive(key) {\n",
              "          const element = document.querySelector('#df-96757294-4193-4370-b117-8be7be4eb21d');\n",
              "          const dataTable =\n",
              "            await google.colab.kernel.invokeFunction('convertToInteractive',\n",
              "                                                     [key], {});\n",
              "          if (!dataTable) return;\n",
              "\n",
              "          const docLinkHtml = 'Like what you see? Visit the ' +\n",
              "            '<a target=\"_blank\" href=https://colab.research.google.com/notebooks/data_table.ipynb>data table notebook</a>'\n",
              "            + ' to learn more about interactive tables.';\n",
              "          element.innerHTML = '';\n",
              "          dataTable['output_type'] = 'display_data';\n",
              "          await google.colab.output.renderOutput(dataTable, element);\n",
              "          const docLink = document.createElement('div');\n",
              "          docLink.innerHTML = docLinkHtml;\n",
              "          element.appendChild(docLink);\n",
              "        }\n",
              "      </script>\n",
              "    </div>\n",
              "  </div>\n",
              "  "
            ]
          },
          "metadata": {},
          "execution_count": 87
        }
      ],
      "metadata": {
        "id": "4tDYiYNsabkq",
        "outputId": "54faa3cd-64b9-466d-8904-44f64f80b157",
        "colab": {
          "base_uri": "https://localhost:8080/",
          "height": 143
        }
      }
    },
    {
      "cell_type": "markdown",
      "source": [
        "# Materialize"
      ],
      "metadata": {
        "id": "-4X6k32oabkr"
      }
    },
    {
      "cell_type": "markdown",
      "source": [
        "For online inference, we want to retrieve features very quickly via our online store, as opposed to fetching them from slow joins. However, the features are not in our online store just yet, so we'll need to materialize them first."
      ],
      "metadata": {
        "id": "erWBblHVabkr"
      }
    },
    {
      "cell_type": "code",
      "execution_count": null,
      "source": [
        "%%bash\n",
        "cd features\n",
        "CURRENT_TIME=$(date -u +\"%Y-%m-%dT%H:%M:%S\")\n",
        "feast materialize-incremental $CURRENT_TIME"
      ],
      "outputs": [
        {
          "output_type": "stream",
          "name": "stdout",
          "text": [
            "Materializing \u001b[1m\u001b[32m1\u001b[0m feature views to \u001b[1m\u001b[32m2022-07-08 12:16:14+00:00\u001b[0m into the \u001b[1m\u001b[32msqlite\u001b[0m online store.\n",
            "\n",
            "\u001b[1m\u001b[32mproject_details\u001b[0m from \u001b[1m\u001b[32m2022-07-08 12:05:16+00:00\u001b[0m to \u001b[1m\u001b[32m2022-07-08 12:16:14+00:00\u001b[0m:\n"
          ]
        },
        {
          "output_type": "stream",
          "name": "stderr",
          "text": [
            "/usr/local/lib/python3.7/dist-packages/scipy/fft/__init__.py:97: DeprecationWarning: The module numpy.dual is deprecated.  Instead of using dual, use the functions directly from numpy or scipy.\n",
            "  from numpy.dual import register_func\n",
            "/usr/local/lib/python3.7/dist-packages/scipy/sparse/sputils.py:17: DeprecationWarning: `np.typeDict` is a deprecated alias for `np.sctypeDict`.\n",
            "  supported_dtypes = [np.typeDict[x] for x in supported_dtypes]\n",
            "/usr/lib/python3.7/importlib/_bootstrap.py:219: RuntimeWarning: numpy.ufunc size changed, may indicate binary incompatibility. Expected 192 from C header, got 216 from PyObject\n",
            "  return f(*args, **kwds)\n",
            "/usr/lib/python3.7/importlib/_bootstrap.py:219: RuntimeWarning: numpy.ufunc size changed, may indicate binary incompatibility. Expected 192 from C header, got 216 from PyObject\n",
            "  return f(*args, **kwds)\n",
            "\r0it [00:00, ?it/s]\r0it [00:00, ?it/s]\n"
          ]
        }
      ],
      "metadata": {
        "id": "PDB2fkb4abkr",
        "outputId": "869d9be6-4323-4eea-b29f-75d412ffd0ad",
        "colab": {
          "base_uri": "https://localhost:8080/"
        }
      }
    },
    {
      "cell_type": "markdown",
      "source": [
        "# Online features"
      ],
      "metadata": {
        "id": "1x_d_Yz0abks"
      }
    },
    {
      "cell_type": "code",
      "execution_count": null,
      "source": [
        "# Get online features\n",
        "store = FeatureStore(repo_path=\"features\")\n",
        "feature_vector = store.get_online_features(\n",
        "    feature_refs=[\"project_details:text\", \"project_details:tag\"],\n",
        "    entity_rows=[{\"id\": 6}],\n",
        ").to_dict()\n",
        "feature_vector"
      ],
      "outputs": [
        {
          "output_type": "execute_result",
          "data": {
            "text/plain": [
              "{'id': [6],\n",
              " 'project_details__tag': ['computer-vision'],\n",
              " 'project_details__text': ['Comparison between YOLO and RCNN on real world videos Bringing theory to experiment is cool. We can easily train models in colab and find the results in minutes.']}"
            ]
          },
          "metadata": {},
          "execution_count": 89
        }
      ],
      "metadata": {
        "id": "A00FJZe0abks",
        "outputId": "6c006f83-5408-4fb2-c9b4-10594046d9d2",
        "colab": {
          "base_uri": "https://localhost:8080/"
        }
      }
    },
    {
      "cell_type": "code",
      "source": [
        "#from google.colab.output import eval_js\n",
        "#host = eval_js(\"google.colab.kernel.proxyPort(8888)\")\n",
        "\n",
        "#!nohup feast ui &\n",
        "#print(f\"Open the Web UI at {host}\")"
      ],
      "metadata": {
        "colab": {
          "base_uri": "https://localhost:8080/",
          "height": 52
        },
        "id": "Xrv1TU5NUxc-",
        "outputId": "a0ed1e9c-7bd2-43bc-e8ca-ff34474874d4"
      },
      "execution_count": null,
      "outputs": [
        {
          "output_type": "stream",
          "name": "stdout",
          "text": [
            "nohup: appending output to 'nohup.out'\n",
            "Open the Web UI at https://8xxe88rhhk-496ff2e9c6d22116-8888-colab.googleusercontent.com/\n"
          ]
        }
      ]
    },
    {
      "cell_type": "code",
      "source": [
        ""
      ],
      "metadata": {
        "id": "xGd38bcjUxeP"
      },
      "execution_count": null,
      "outputs": []
    }
  ],
  "metadata": {
    "colab": {
      "collapsed_sections": [],
      "name": "feature store",
      "provenance": []
    },
    "kernelspec": {
      "display_name": "Python 3",
      "name": "python3"
    },
    "language_info": {
      "name": "python"
    },
    "gpuClass": "standard"
  },
  "nbformat": 4,
  "nbformat_minor": 0
}